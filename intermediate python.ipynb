{
 "cells": [
  {
   "cell_type": "markdown",
   "id": "6db1d2ae",
   "metadata": {},
   "source": [
    "# python function "
   ]
  },
  {
   "cell_type": "code",
   "execution_count": null,
   "id": "88dd1fe8",
   "metadata": {},
   "outputs": [],
   "source": [
    "user defined python function:\n",
    "    \n",
    "    you need to perform a task multiple times in a program.\n",
    "and you don't want to copy the code for that same task all over places.\n",
    "in practices,you use function to divide a large program into smaller and more manageable parts.\n",
    "the function will make your program easier to develop,read,test, and maintain.\n",
    "\n",
    "\n",
    "defiining a function\n",
    "def greet():\n",
    "    ''''''display a greeting to user''''''\n",
    "    print('hi')\n",
    "    \n",
    "1) function definition \n",
    "A function definition starts with the def keyword and the name of the function(greet)\n",
    "\n",
    "defining a function\n",
    "def greet():\n",
    "    ''''''display to the user ''''''\n",
    "    print('hi')\n",
    "    \n",
    "2) function body\n",
    "All the indented lines that follw the function definition makeup the function's body\n",
    "     ''''''display a greeting to users''''''\n",
    "    print('hi')\n",
    "    \n",
    "    calling a function\n",
    "    greet()"
   ]
  },
  {
   "cell_type": "code",
   "execution_count": 1,
   "id": "eb614097",
   "metadata": {},
   "outputs": [],
   "source": [
    "def greet():\n",
    "    print('hi')"
   ]
  },
  {
   "cell_type": "code",
   "execution_count": 2,
   "id": "3e0dda85",
   "metadata": {},
   "outputs": [
    {
     "name": "stdout",
     "output_type": "stream",
     "text": [
      "hi\n"
     ]
    }
   ],
   "source": [
    "greet()"
   ]
  },
  {
   "cell_type": "code",
   "execution_count": 4,
   "id": "0fb029a7",
   "metadata": {},
   "outputs": [],
   "source": [
    "#parameters,argument,keyword argument,default parameters,docs string"
   ]
  },
  {
   "cell_type": "code",
   "execution_count": 5,
   "id": "6324e2d7",
   "metadata": {},
   "outputs": [],
   "source": [
    "def message():\n",
    "    print('hello there')"
   ]
  },
  {
   "cell_type": "code",
   "execution_count": 6,
   "id": "78ce751f",
   "metadata": {},
   "outputs": [
    {
     "name": "stdout",
     "output_type": "stream",
     "text": [
      "hello there\n"
     ]
    }
   ],
   "source": [
    "message()"
   ]
  },
  {
   "cell_type": "code",
   "execution_count": 2,
   "id": "6a73d264",
   "metadata": {},
   "outputs": [],
   "source": [
    "#passing information to python functions\n",
    "\n",
    "def greeting(name ):    #name is parameter\n",
    "    print(f\"hello good eveving {name}\")"
   ]
  },
  {
   "cell_type": "code",
   "execution_count": 3,
   "id": "2fcb99f1",
   "metadata": {},
   "outputs": [
    {
     "name": "stdout",
     "output_type": "stream",
     "text": [
      "hello good eveving sam\n"
     ]
    }
   ],
   "source": [
    "greeting(name = 'sam')"
   ]
  },
  {
   "cell_type": "code",
   "execution_count": 15,
   "id": "392b9ec9",
   "metadata": {},
   "outputs": [
    {
     "name": "stdout",
     "output_type": "stream",
     "text": [
      "hello good eveving sam\n",
      "None\n"
     ]
    }
   ],
   "source": [
    "mess = greeting('sam')\n",
    "print(mess)"
   ]
  },
  {
   "cell_type": "code",
   "execution_count": null,
   "id": "e1486ddf",
   "metadata": {},
   "outputs": [],
   "source": [
    "#parameter vs argument\n",
    "parameter: is a piece of information a function needs.\n",
    "arguments:is a piece of data that you pass into a function"
   ]
  },
  {
   "cell_type": "code",
   "execution_count": 4,
   "id": "0450e9c8",
   "metadata": {},
   "outputs": [],
   "source": [
    "#returning a value\n",
    "to return a value from a function, you use the return statement inside the function body"
   ]
  },
  {
   "cell_type": "code",
   "execution_count": null,
   "id": "f8a7fe0e",
   "metadata": {},
   "outputs": [],
   "source": [
    "def greeting (name):            \n",
    "    return f\"hi {name}\""
   ]
  },
  {
   "cell_type": "code",
   "execution_count": 5,
   "id": "9d4af002",
   "metadata": {},
   "outputs": [
    {
     "data": {
      "text/plain": [
       "'hi lily'"
      ]
     },
     "execution_count": 5,
     "metadata": {},
     "output_type": "execute_result"
    }
   ],
   "source": [
    "greeting(name = \"lily\")"
   ]
  },
  {
   "cell_type": "code",
   "execution_count": 18,
   "id": "4a96ea29",
   "metadata": {},
   "outputs": [],
   "source": [
    "#print() is a function,return is a keyword"
   ]
  },
  {
   "cell_type": "code",
   "execution_count": 19,
   "id": "2b27343b",
   "metadata": {},
   "outputs": [],
   "source": [
    "def add(a,b):\n",
    "    return a+b"
   ]
  },
  {
   "cell_type": "code",
   "execution_count": 46,
   "id": "435e45b7",
   "metadata": {},
   "outputs": [
    {
     "data": {
      "text/plain": [
       "25"
      ]
     },
     "execution_count": 46,
     "metadata": {},
     "output_type": "execute_result"
    }
   ],
   "source": [
    "add(a=15,b=10)"
   ]
  },
  {
   "cell_type": "code",
   "execution_count": 47,
   "id": "07e3e5cd",
   "metadata": {},
   "outputs": [],
   "source": [
    "def sum(a,b):\n",
    "    return a+b"
   ]
  },
  {
   "cell_type": "code",
   "execution_count": 65,
   "id": "dbd76d87",
   "metadata": {},
   "outputs": [
    {
     "data": {
      "text/plain": [
       "25"
      ]
     },
     "execution_count": 65,
     "metadata": {},
     "output_type": "execute_result"
    }
   ],
   "source": [
    "sum(a=15,b=10)"
   ]
  },
  {
   "cell_type": "markdown",
   "id": "638522f1",
   "metadata": {},
   "source": [
    "# python default parameter"
   ]
  },
  {
   "cell_type": "code",
   "execution_count": 67,
   "id": "7d63d739",
   "metadata": {},
   "outputs": [],
   "source": [
    "#def function_name(param1,param2=value2,param3=value3,....)"
   ]
  },
  {
   "cell_type": "code",
   "execution_count": 68,
   "id": "91e03447",
   "metadata": {},
   "outputs": [],
   "source": [
    "def greet(name,message = 'hi'):       #defining only one argument\n",
    "    return f\" {message} {name}\""
   ]
  },
  {
   "cell_type": "code",
   "execution_count": 69,
   "id": "6c991e31",
   "metadata": {},
   "outputs": [
    {
     "data": {
      "text/plain": [
       "' hi sam '"
      ]
     },
     "execution_count": 69,
     "metadata": {},
     "output_type": "execute_result"
    }
   ],
   "source": [
    "greet('sam ')"
   ]
  },
  {
   "cell_type": "code",
   "execution_count": 9,
   "id": "7093a8d4",
   "metadata": {},
   "outputs": [],
   "source": [
    "def sum (a,b,c=2):                  #defining only one argument\n",
    "    return a,b,c"
   ]
  },
  {
   "cell_type": "code",
   "execution_count": 10,
   "id": "3ef5d764",
   "metadata": {},
   "outputs": [
    {
     "data": {
      "text/plain": [
       "(2, 4, 2)"
      ]
     },
     "execution_count": 10,
     "metadata": {},
     "output_type": "execute_result"
    }
   ],
   "source": [
    "sum(2,4)"
   ]
  },
  {
   "cell_type": "code",
   "execution_count": null,
   "id": "74b915ad",
   "metadata": {},
   "outputs": [],
   "source": [
    "#python keyword argument\n",
    "#    fn(parameter1 = value1,parameter2 = value2)"
   ]
  },
  {
   "cell_type": "code",
   "execution_count": 11,
   "id": "49fb7d34",
   "metadata": {},
   "outputs": [],
   "source": [
    "def get_net_price(price,discount):\n",
    "    return  price *(1-discount)"
   ]
  },
  {
   "cell_type": "code",
   "execution_count": 13,
   "id": "7acae74d",
   "metadata": {},
   "outputs": [
    {
     "data": {
      "text/plain": [
       "90.0"
      ]
     },
     "execution_count": 13,
     "metadata": {},
     "output_type": "execute_result"
    }
   ],
   "source": [
    "get_net_price(price = 100,discount = 0.1)"
   ]
  },
  {
   "cell_type": "code",
   "execution_count": 12,
   "id": "675a8e98",
   "metadata": {},
   "outputs": [
    {
     "data": {
      "text/plain": [
       "90.0"
      ]
     },
     "execution_count": 12,
     "metadata": {},
     "output_type": "execute_result"
    }
   ],
   "source": [
    "net_price = get_net_price(price=100,discount=0.1)\n",
    "net_price"
   ]
  },
  {
   "cell_type": "code",
   "execution_count": 70,
   "id": "778535fb",
   "metadata": {},
   "outputs": [],
   "source": [
    "def get_net_price(a,b,price,discount):\n",
    "    return a+b+ price *(1-discount)"
   ]
  },
  {
   "cell_type": "code",
   "execution_count": 71,
   "id": "cd64c621",
   "metadata": {},
   "outputs": [
    {
     "data": {
      "text/plain": [
       "108.0"
      ]
     },
     "execution_count": 71,
     "metadata": {},
     "output_type": "execute_result"
    }
   ],
   "source": [
    "net_price = get_net_price(a=10,b=8,price=100,discount=0.1)\n",
    "net_price"
   ]
  },
  {
   "cell_type": "code",
   "execution_count": null,
   "id": "88c6ac62",
   "metadata": {},
   "outputs": [],
   "source": [
    "#create a function which gives the values for 1-10  eg:num(10)\n",
    "#create a function for BMI calculation\n",
    "#create a function to calculate revenue\n",
    "#create a function to calculate a mean function,median,mode.\n",
    "#create a function for calculator"
   ]
  },
  {
   "cell_type": "code",
   "execution_count": 74,
   "id": "1827ba15",
   "metadata": {},
   "outputs": [
    {
     "name": "stdout",
     "output_type": "stream",
     "text": [
      "1\n",
      "2\n",
      "3\n",
      "4\n",
      "5\n",
      "6\n",
      "7\n",
      "8\n",
      "9\n",
      "10\n"
     ]
    }
   ],
   "source": [
    "##create a function which gives the values for 1-10\n",
    "def num(n):\n",
    "    for i in range(1,n+1):\n",
    "        print(i)\n",
    "num(10)"
   ]
  },
  {
   "cell_type": "code",
   "execution_count": 19,
   "id": "4799b2f9",
   "metadata": {},
   "outputs": [
    {
     "name": "stdout",
     "output_type": "stream",
     "text": [
      "Your BMI: 27.170771187420506\n"
     ]
    }
   ],
   "source": [
    "##create a function for BMI calculation\n",
    "def calculate_bmi(weight_kg, height_m):\n",
    "    bmi = weight_kg / (height_m ** 2)\n",
    "    return bmi\n",
    "weight = 94  # kg\n",
    "height = 1.86  # meters\n",
    "\n",
    "bmi = calculate_bmi(weight, height)\n",
    "print(\"Your BMI:\", bmi)"
   ]
  },
  {
   "cell_type": "code",
   "execution_count": 21,
   "id": "f4f0e918",
   "metadata": {},
   "outputs": [
    {
     "name": "stdout",
     "output_type": "stream",
     "text": [
      "Total Revenue: 1575.0\n"
     ]
    }
   ],
   "source": [
    "#create a function to calculate revenue\n",
    "def calculate_revenue(price, quantity_sold):\n",
    "    revenue = price * quantity_sold\n",
    "    return revenue\n",
    "price = 10.50  \n",
    "quantity_sold = 150  \n",
    "\n",
    "revenue = calculate_revenue(price, quantity_sold)\n",
    "print(\"Total Revenue:\", revenue)"
   ]
  },
  {
   "cell_type": "code",
   "execution_count": 22,
   "id": "68481715",
   "metadata": {},
   "outputs": [
    {
     "ename": "NameError",
     "evalue": "name 'data' is not defined",
     "output_type": "error",
     "traceback": [
      "\u001b[1;31m---------------------------------------------------------------------------\u001b[0m",
      "\u001b[1;31mNameError\u001b[0m                                 Traceback (most recent call last)",
      "Cell \u001b[1;32mIn[22], line 9\u001b[0m\n\u001b[0;32m      6\u001b[0m         median \u001b[38;5;241m=\u001b[39m (middle1 \u001b[38;5;241m+\u001b[39m middle2) \u001b[38;5;241m/\u001b[39m \u001b[38;5;241m2\u001b[39m\n\u001b[0;32m      7\u001b[0m         \u001b[38;5;28;01mreturn\u001b[39;00m median\n\u001b[1;32m----> 9\u001b[0m mean \u001b[38;5;241m=\u001b[39m calculate_mean(data)\n\u001b[0;32m     10\u001b[0m \u001b[38;5;28mprint\u001b[39m(\u001b[38;5;124m\"\u001b[39m\u001b[38;5;124mMean:\u001b[39m\u001b[38;5;124m\"\u001b[39m, mean)\n\u001b[0;32m     12\u001b[0m median \u001b[38;5;241m=\u001b[39m calculate_median(data)\n",
      "\u001b[1;31mNameError\u001b[0m: name 'data' is not defined"
     ]
    }
   ],
   "source": [
    "#create a function to calculate a mean function,median,mode.\n",
    "def calculate_mean(numbers):\n",
    "    mean = sum(numbers) / len(numbers)\n",
    "    return mean\n",
    "def calculate_median(numbers):\n",
    "        median = (middle1 + middle2) / 2\n",
    "        return median\n",
    "\n",
    "mean = calculate_mean(data)\n",
    "print(\"Mean:\", mean)\n",
    "\n",
    "median = calculate_median(data)\n",
    "print(\"Median:\", median)\n"
   ]
  },
  {
   "cell_type": "code",
   "execution_count": 24,
   "id": "acc8ddae",
   "metadata": {},
   "outputs": [
    {
     "ename": "NameError",
     "evalue": "name 'operation' is not defined",
     "output_type": "error",
     "traceback": [
      "\u001b[1;31m---------------------------------------------------------------------------\u001b[0m",
      "\u001b[1;31mNameError\u001b[0m                                 Traceback (most recent call last)",
      "Cell \u001b[1;32mIn[24], line 14\u001b[0m\n\u001b[0;32m     11\u001b[0m         \u001b[38;5;28;01mraise\u001b[39;00m \u001b[38;5;167;01mValueError\u001b[39;00m(\u001b[38;5;124m\"\u001b[39m\u001b[38;5;124mInvalid operation.\u001b[39m\u001b[38;5;124m\"\u001b[39m)\n\u001b[0;32m     12\u001b[0m     \u001b[38;5;28;01mreturn\u001b[39;00m result\n\u001b[1;32m---> 14\u001b[0m result \u001b[38;5;241m=\u001b[39m calculator(operation, num1, num2)\n\u001b[0;32m     15\u001b[0m \u001b[38;5;28mprint\u001b[39m(\u001b[38;5;124m\"\u001b[39m\u001b[38;5;124mResult:\u001b[39m\u001b[38;5;124m\"\u001b[39m, result)\n",
      "\u001b[1;31mNameError\u001b[0m: name 'operation' is not defined"
     ]
    }
   ],
   "source": [
    "def calculator(operation, num1=10, num2=5):\n",
    "    if operation == '+':\n",
    "        result = num1 + num2\n",
    "    elif operation == '-':\n",
    "        result = num1 - num2\n",
    "    elif operation == '*':\n",
    "        result = num1 * num2\n",
    "    elif operation == '/':\n",
    "        result = num1 / num2\n",
    "    else:\n",
    "        raise ValueError(\"Invalid operation.\")\n",
    "    return result\n",
    "\n",
    "result = calculator(operation, num1, num2)\n",
    "print(\"Result:\", result)"
   ]
  },
  {
   "cell_type": "markdown",
   "id": "1f58e5cd",
   "metadata": {},
   "source": [
    "# python recursive function"
   ]
  },
  {
   "cell_type": "code",
   "execution_count": null,
   "id": "23a8e507",
   "metadata": {},
   "outputs": [],
   "source": [
    "A recursive function is a function that calls itself unit it doesn't.\n",
    "def fn():\n",
    "    #...\n",
    "    if condition :\n",
    "        #stop calling itself\n",
    "    else:\n",
    "        fn()\n",
    "    #..."
   ]
  },
  {
   "cell_type": "code",
   "execution_count": 4,
   "id": "597f1672",
   "metadata": {},
   "outputs": [
    {
     "name": "stdout",
     "output_type": "stream",
     "text": [
      "enter n input3\n",
      "6\n"
     ]
    }
   ],
   "source": [
    "#user input factorial\n",
    "def factorial(n):\n",
    "    if(n==0 or n==1):\n",
    "        return 1\n",
    "    else:\n",
    "        return n*factorial(n-1)\n",
    "n = int(input(\"enter n input\"))\n",
    "res = factorial(n)\n",
    "print(res)"
   ]
  },
  {
   "cell_type": "code",
   "execution_count": 3,
   "id": "4bc7bb77",
   "metadata": {},
   "outputs": [
    {
     "name": "stdout",
     "output_type": "stream",
     "text": [
      "3\n",
      "2\n",
      "1\n"
     ]
    }
   ],
   "source": [
    "#using a condition \n",
    "def count_down(start):\n",
    "    \"\"\"\" count down from a number\"\"\"\n",
    "    print(start)\n",
    "    #call the count_down if the next\n",
    "    #number is gretater than 0\n",
    "    next = start - 1\n",
    "    if next>0:\n",
    "        count_down(next)\n",
    "        \n",
    "count_down(3)"
   ]
  },
  {
   "cell_type": "code",
   "execution_count": 98,
   "id": "d6d20cbf",
   "metadata": {},
   "outputs": [
    {
     "data": {
      "text/plain": [
       "55"
      ]
     },
     "execution_count": 98,
     "metadata": {},
     "output_type": "execute_result"
    }
   ],
   "source": [
    "#using the condition\n",
    "def sum(n):\n",
    "    total = 0\n",
    "    for index in range (n+1):\n",
    "        total += index\n",
    "    return total\n",
    "sum(10)"
   ]
  },
  {
   "cell_type": "code",
   "execution_count": 103,
   "id": "a7df4846",
   "metadata": {},
   "outputs": [
    {
     "data": {
      "text/plain": [
       "55"
      ]
     },
     "execution_count": 103,
     "metadata": {},
     "output_type": "execute_result"
    }
   ],
   "source": [
    "#using the terniary operator\n",
    "def sum(n):\n",
    "    return n+sum(n-1)if n>0 else 0\n",
    "sum(10)\n"
   ]
  },
  {
   "cell_type": "markdown",
   "id": "88e76fe1",
   "metadata": {},
   "source": [
    "# lambda expressions"
   ]
  },
  {
   "cell_type": "code",
   "execution_count": null,
   "id": "7bb0cc4f",
   "metadata": {},
   "outputs": [],
   "source": [
    "python lambda expression allow you to define anonymous function\n",
    "\n",
    "#A lambda function can take any number of arguments, but can only have one expression.\n",
    "\n",
    "lambda parameters:expression\n",
    "\n",
    "similar\n",
    "def anonymous(parameters):\n",
    "    return expression"
   ]
  },
  {
   "cell_type": "code",
   "execution_count": 111,
   "id": "41cb5d41",
   "metadata": {},
   "outputs": [],
   "source": [
    "x = lambda k,j : k ** 2 +j\n"
   ]
  },
  {
   "cell_type": "code",
   "execution_count": 112,
   "id": "1772edec",
   "metadata": {},
   "outputs": [
    {
     "data": {
      "text/plain": [
       "22"
      ]
     },
     "execution_count": 112,
     "metadata": {},
     "output_type": "execute_result"
    }
   ],
   "source": [
    "x(4,6)"
   ]
  },
  {
   "cell_type": "code",
   "execution_count": 113,
   "id": "8acc5148",
   "metadata": {},
   "outputs": [],
   "source": [
    "def times(n):\n",
    "    return lambda x:x*n\n"
   ]
  },
  {
   "cell_type": "code",
   "execution_count": 117,
   "id": "60aba87e",
   "metadata": {},
   "outputs": [
    {
     "name": "stdout",
     "output_type": "stream",
     "text": [
      "<function times.<locals>.<lambda> at 0x000001968F4BCFE0>\n",
      "10\n"
     ]
    }
   ],
   "source": [
    "x = times(5)\n",
    "print(x)\n",
    "y = x(2)\n",
    "print(y)"
   ]
  },
  {
   "cell_type": "code",
   "execution_count": 118,
   "id": "f55503b1",
   "metadata": {},
   "outputs": [
    {
     "name": "stdout",
     "output_type": "stream",
     "text": [
      "10\n"
     ]
    }
   ],
   "source": [
    "s = lambda x:x*2\n",
    "print(s(5))"
   ]
  },
  {
   "cell_type": "code",
   "execution_count": 26,
   "id": "4975bc0a",
   "metadata": {},
   "outputs": [
    {
     "name": "stdout",
     "output_type": "stream",
     "text": [
      "12\n"
     ]
    }
   ],
   "source": [
    "prod = lambda a,b :a+b\n",
    "print(prod(5,7))"
   ]
  },
  {
   "cell_type": "code",
   "execution_count": 27,
   "id": "aa3e8765",
   "metadata": {},
   "outputs": [
    {
     "name": "stdout",
     "output_type": "stream",
     "text": [
      "13\n"
     ]
    }
   ],
   "source": [
    "y = lambda a,b,c:a+b+c\n",
    "print(y(5,6,2))"
   ]
  },
  {
   "cell_type": "code",
   "execution_count": 28,
   "id": "ca682848",
   "metadata": {
    "scrolled": true
   },
   "outputs": [
    {
     "name": "stdout",
     "output_type": "stream",
     "text": [
      "Help on built-in function print in module builtins:\n",
      "\n",
      "print(*args, sep=' ', end='\\n', file=None, flush=False)\n",
      "    Prints the values to a stream, or to sys.stdout by default.\n",
      "    \n",
      "    sep\n",
      "      string inserted between values, default a space.\n",
      "    end\n",
      "      string appended after the last value, default a newline.\n",
      "    file\n",
      "      a file-like object (stream); defaults to the current sys.stdout.\n",
      "    flush\n",
      "      whether to forcibly flush the stream.\n",
      "\n"
     ]
    }
   ],
   "source": [
    "# the help() function\n",
    "help(print)"
   ]
  },
  {
   "cell_type": "code",
   "execution_count": 33,
   "id": "8394778f",
   "metadata": {},
   "outputs": [
    {
     "name": "stdout",
     "output_type": "stream",
     "text": [
      "Help on function add in module __main__:\n",
      "\n",
      "add(a, b)\n",
      "    return the sum of the two arguments\n",
      "\n"
     ]
    }
   ],
   "source": [
    "#using docstrings to functions.\n",
    "#The PEP 257 provides the docstring conventions.\n",
    "#python stores the docstrings in the __doc__ property of the function.\n",
    "\n",
    "\n",
    "def add(a,b):\n",
    "    \"return the sum of the two arguments\"    #(docstring)\n",
    "    return a+b\n",
    "help(add)"
   ]
  },
  {
   "cell_type": "code",
   "execution_count": 34,
   "id": "568f651e",
   "metadata": {},
   "outputs": [
    {
     "data": {
      "text/plain": [
       "'Add two arguments\\n    Arguments:\\n        a: an integer\\n        b: an integer\\n    return:\\n        The sum of the arguments\\n        '"
      ]
     },
     "execution_count": 34,
     "metadata": {},
     "output_type": "execute_result"
    }
   ],
   "source": [
    "def add(a,b):\n",
    "    \"\"\"Add two arguments\n",
    "    Arguments:\n",
    "        a: an integer\n",
    "        b: an integer\n",
    "    return:\n",
    "        The sum of the arguments\n",
    "        \"\"\"\n",
    "    return a+b\n",
    "add.__doc__"
   ]
  },
  {
   "cell_type": "code",
   "execution_count": 35,
   "id": "2fbf2fd1",
   "metadata": {},
   "outputs": [
    {
     "name": "stdout",
     "output_type": "stream",
     "text": [
      "Help on function add in module __main__:\n",
      "\n",
      "add(a, b)\n",
      "    Add two arguments\n",
      "    Arguments:\n",
      "        a: an integer\n",
      "        b: an integer\n",
      "    return:\n",
      "        The sum of the arguments\n",
      "\n"
     ]
    }
   ],
   "source": [
    "help(add)"
   ]
  },
  {
   "cell_type": "code",
   "execution_count": 38,
   "id": "e43f87d7",
   "metadata": {},
   "outputs": [
    {
     "ename": "NameError",
     "evalue": "name 'x' is not defined",
     "output_type": "error",
     "traceback": [
      "\u001b[1;31m---------------------------------------------------------------------------\u001b[0m",
      "\u001b[1;31mNameError\u001b[0m                                 Traceback (most recent call last)",
      "Cell \u001b[1;32mIn[38], line 4\u001b[0m\n\u001b[0;32m      1\u001b[0m \u001b[38;5;66;03m#python *args\u001b[39;00m\n\u001b[0;32m      2\u001b[0m \u001b[38;5;66;03m#the following unpacks a tuple into two variables:\u001b[39;00m\n\u001b[1;32m----> 4\u001b[0m \u001b[38;5;241m10\u001b[39m,\u001b[38;5;241m20\u001b[39m \u001b[38;5;241m==\u001b[39m (x,y)\n",
      "\u001b[1;31mNameError\u001b[0m: name 'x' is not defined"
     ]
    }
   ],
   "source": [
    "#python *args\n",
    "#the following unpacks a tuple into two variables:\n",
    "\n",
    "10,20 == (x,y)"
   ]
  },
  {
   "cell_type": "code",
   "execution_count": 37,
   "id": "6e708828",
   "metadata": {},
   "outputs": [
    {
     "data": {
      "text/plain": [
       "30"
      ]
     },
     "execution_count": 37,
     "metadata": {},
     "output_type": "execute_result"
    }
   ],
   "source": [
    "def add(x,y):\n",
    "    return x+y\n",
    "\n",
    "add(10,20)"
   ]
  },
  {
   "cell_type": "code",
   "execution_count": 40,
   "id": "34c0678a",
   "metadata": {},
   "outputs": [
    {
     "name": "stdout",
     "output_type": "stream",
     "text": [
      "10\n"
     ]
    }
   ],
   "source": [
    "i,j = (10,20)\n",
    "print(i)"
   ]
  },
  {
   "cell_type": "code",
   "execution_count": 41,
   "id": "cb1660d5",
   "metadata": {},
   "outputs": [
    {
     "name": "stdout",
     "output_type": "stream",
     "text": [
      "30\n"
     ]
    }
   ],
   "source": [
    "i,j,k = (10,20,30)\n",
    "print(k)"
   ]
  },
  {
   "cell_type": "code",
   "execution_count": 42,
   "id": "448d7955",
   "metadata": {},
   "outputs": [
    {
     "name": "stdout",
     "output_type": "stream",
     "text": [
      "[30, 40, 50]\n"
     ]
    }
   ],
   "source": [
    "i,j,*k = (10,20,30,40,50)\n",
    "print(k)"
   ]
  },
  {
   "cell_type": "code",
   "execution_count": 39,
   "id": "74101a7c",
   "metadata": {},
   "outputs": [
    {
     "name": "stdout",
     "output_type": "stream",
     "text": [
      "10\n",
      "20\n",
      "[30, 40]\n",
      "<class 'int'>\n"
     ]
    }
   ],
   "source": [
    "x,y,*z = 10,20,30,40\n",
    "\n",
    "print(x)\n",
    "print(y)\n",
    "print(z)\n",
    "print(type(x))"
   ]
  },
  {
   "cell_type": "code",
   "execution_count": 50,
   "id": "683fc210",
   "metadata": {},
   "outputs": [
    {
     "name": "stdout",
     "output_type": "stream",
     "text": [
      "234\n"
     ]
    }
   ],
   "source": [
    "\n",
    "def add(x,y,*args):\n",
    "    total = x+y\n",
    "    for arg in args:\n",
    "        total += arg\n",
    "        \n",
    "    return total\n",
    "\n",
    "\n",
    "result = add(10,20,40,50,60,4,50)\n",
    "print(result)"
   ]
  },
  {
   "cell_type": "code",
   "execution_count": 51,
   "id": "f95a46ec",
   "metadata": {},
   "outputs": [
    {
     "name": "stdout",
     "output_type": "stream",
     "text": [
      "234\n"
     ]
    }
   ],
   "source": [
    "def add(x,y,*args,**kwargs):\n",
    "    total = x+y\n",
    "    for arg in args:\n",
    "        total += arg\n",
    "        \n",
    "    return total\n",
    "\n",
    "\n",
    "result = add(10,20,40,50,60,4,50)\n",
    "print(result)"
   ]
  },
  {
   "cell_type": "code",
   "execution_count": 54,
   "id": "6b4c281f",
   "metadata": {},
   "outputs": [
    {
     "name": "stdout",
     "output_type": "stream",
     "text": [
      "(1, 2, 3)\n"
     ]
    }
   ],
   "source": [
    "def add(*args):\n",
    "    print(args)\n",
    "    \n",
    "add(1,2,3)"
   ]
  },
  {
   "cell_type": "code",
   "execution_count": 56,
   "id": "6a794c86",
   "metadata": {},
   "outputs": [
    {
     "name": "stdout",
     "output_type": "stream",
     "text": [
      "1\n",
      "2\n",
      "3\n"
     ]
    }
   ],
   "source": [
    "def add(*args):\n",
    "    print(args[0])\n",
    "    print(args[1])\n",
    "    print(args[2])\n",
    "    \n",
    "add(1,2,3)"
   ]
  },
  {
   "cell_type": "code",
   "execution_count": 58,
   "id": "d6f2a325",
   "metadata": {},
   "outputs": [
    {
     "name": "stdout",
     "output_type": "stream",
     "text": [
      "21\n"
     ]
    }
   ],
   "source": [
    "def add(*args):\n",
    "    total = 0\n",
    "    for arg in args:\n",
    "        total += arg\n",
    "    return total\n",
    "total = add(1,2,3,4,5,6)\n",
    "print(total)"
   ]
  },
  {
   "cell_type": "code",
   "execution_count": 59,
   "id": "10d5d5ed",
   "metadata": {},
   "outputs": [
    {
     "data": {
      "text/plain": [
       "34"
      ]
     },
     "execution_count": 59,
     "metadata": {},
     "output_type": "execute_result"
    }
   ],
   "source": [
    "def add(x,y,z,*args):\n",
    "    return x+y+z\n",
    "add(10,20,4,50,60)"
   ]
  },
  {
   "cell_type": "code",
   "execution_count": null,
   "id": "42933e0c",
   "metadata": {},
   "outputs": [],
   "source": [
    "#python  **kwargs paprameters\n",
    "the **kwargs is called a keyword parameter."
   ]
  },
  {
   "cell_type": "code",
   "execution_count": 60,
   "id": "b2ebc335",
   "metadata": {},
   "outputs": [],
   "source": [
    "def connect(**kwargs):\n",
    "    print(type(kwargs))\n",
    "    print(kwargs)"
   ]
  },
  {
   "cell_type": "code",
   "execution_count": 64,
   "id": "7b337d1a",
   "metadata": {},
   "outputs": [
    {
     "name": "stdout",
     "output_type": "stream",
     "text": [
      "<class 'dict'>\n",
      "{}\n",
      "<class 'dict'>\n",
      "{'one': 10, 'password': 'sam$12'}\n"
     ]
    }
   ],
   "source": [
    "type(connect())\n",
    "connect(one = 10, password = 'sam$12')"
   ]
  },
  {
   "cell_type": "code",
   "execution_count": 65,
   "id": "26688b13",
   "metadata": {},
   "outputs": [
    {
     "name": "stdout",
     "output_type": "stream",
     "text": [
      "<class 'dict'>\n",
      "{'server': 'localhost', 'port': 3306, 'user': 'root', 'password': 'anish@123'}\n"
     ]
    }
   ],
   "source": [
    "connect(server = 'localhost', port = 3306 , user='root', password='anish@123')"
   ]
  },
  {
   "cell_type": "markdown",
   "id": "8e9da232",
   "metadata": {},
   "source": [
    "# File input/output in python"
   ]
  },
  {
   "cell_type": "code",
   "execution_count": 2,
   "id": "be2ba5db",
   "metadata": {},
   "outputs": [],
   "source": [
    "#python read text file\n",
    "#1) open() function \n",
    "\n",
    "#open (path_to_file,mode)"
   ]
  },
  {
   "cell_type": "code",
   "execution_count": 3,
   "id": "019ee9a2",
   "metadata": {},
   "outputs": [],
   "source": [
    "f = open('','r')"
   ]
  },
  {
   "cell_type": "code",
   "execution_count": null,
   "id": "b050136e",
   "metadata": {},
   "outputs": [],
   "source": [
    "#2) reading text methods\n",
    "the file object provides you three methods for reading text from a text file:\n",
    "\n",
    "read(size) - read some contents of a file based on the optional size and return the contents as a string.\n",
    "If you omit the size , the read() method reads from where it left off till the end of the file.\n",
    "If the end of file has been reached , the read() method returns an empty string.\n",
    "\n",
    "readline() - read a single line from a text file and return the lines as a string .\n",
    "If the end of a file has been reached , the readlines() return an empty string\n",
    "\n",
    "readlines() - read all the lines of the text file into of strings.\n",
    "This method is useful if you have a small file and you want to manipulate the whole text of that file"
   ]
  },
  {
   "cell_type": "code",
   "execution_count": null,
   "id": "d0d326cc",
   "metadata": {},
   "outputs": [],
   "source": [
    "3) close()method\n",
    "    \n",
    "    f.close()"
   ]
  },
  {
   "cell_type": "code",
   "execution_count": 12,
   "id": "9c3f8dd2",
   "metadata": {},
   "outputs": [],
   "source": [
    "f = open(r\"C:\\Users\\Anish\\Desktop\\python_intro.txt\",mode = 'r')      #r is  mode \n",
    "                                                           # for read mode is wriitten is r\n",
    "f.read()\n",
    "f.close()"
   ]
  },
  {
   "cell_type": "code",
   "execution_count": 6,
   "id": "cb46206a",
   "metadata": {},
   "outputs": [],
   "source": [
    "f = open(r\"C:\\Users\\Anish\\Desktop\\python_intro.txt\",mode = 'r')      #r is  mode\n",
    "f.readline()\n",
    "f.close()"
   ]
  },
  {
   "cell_type": "code",
   "execution_count": 7,
   "id": "14e876e1",
   "metadata": {},
   "outputs": [],
   "source": [
    "f = open(r\"C:\\Users\\Anish\\Desktop\\python_intro.txt\",mode = 'r')\n",
    "f.readlines()\n",
    "f.close()\n"
   ]
  },
  {
   "cell_type": "code",
   "execution_count": 14,
   "id": "82616f55",
   "metadata": {},
   "outputs": [
    {
     "name": "stdout",
     "output_type": "stream",
     "text": [
      "['Python is an easy to learn, powerful programming language. It has efficient high-level data structures and a simple but effective approach to object-oriented programming. Pythonâ€™s elegant syntax and dynamic typing, together with its interpreted nature, make it an ideal language for scripting and rapid application development in many areas on most platforms.\\n', '\\n', 'The Python interpreter and the extensive standard library are freely available in source or binary form for all major platforms from the Python web site, https://www.python.org/, and may be freely distributed. The same site also contains distributions of and pointers to many free third party Python modules, programs and tools, and additional documentation.\\n', '\\n', 'The Python interpreter is easily extended with new functions and data types implemented in C or C++ (or other languages callable from C). Python is also suitable as an extension language for customizable applications.\\n', '\\n', 'This tutorial introduces the reader informally to the basic concepts and features of the Python language and system. It helps to have a Python interpreter handy for hands-on experience, but all examples are self-contained, so the tutorial can be read off-line as well.\\n', '\\n', 'For a description of standard objects and modules, see The Python Standard Library. The Python Language Reference gives a more formal definition of the language. To write extensions in C or C++, read Extending and Embedding the Python Interpreter and Python/C API Reference Manual. There are also several books covering Python in depth.\\n', '\\n', 'This tutorial does not attempt to be comprehensive and cover every single feature, or even every commonly used feature. Instead, it introduces many of Pythonâ€™s most noteworthy features, and will give you a good idea of the languageâ€™s flavor and style. After reading it, you will be able to read and write Python modules and programs, and you will be ready to learn more about the various Python library modules described in The Python Standard Library.']\n"
     ]
    }
   ],
   "source": [
    "with open(r\"C:\\Users\\Anish\\Desktop\\python_intro.txt\")as f:   #if we use 'with' we cannot need to f.close()\n",
    "    contents = f.readlines()\n",
    "    print(contents)"
   ]
  },
  {
   "cell_type": "code",
   "execution_count": 8,
   "id": "908f4195",
   "metadata": {},
   "outputs": [
    {
     "name": "stdout",
     "output_type": "stream",
     "text": [
      "Python is an easy to learn, powerful programming language. It has efficient high-level data structures and a simple but effective approach to object-oriented programming. Pythonâ€™s elegant syntax and dynamic typing, together with its interpreted nature, make it an ideal language for scripting and rapid application development in many areas on most platforms.\n",
      "\n",
      "The Python interpreter and the extensive standard library are freely available in source or binary form for all major platforms from the Python web site, https://www.python.org/, and may be freely distributed. The same site also contains distributions of and pointers to many free third party Python modules, programs and tools, and additional documentation.\n",
      "\n",
      "The Python interpreter is easily extended with new functions and data types implemented in C or C++ (or other languages callable from C). Python is also suitable as an extension language for customizable applications.\n",
      "\n",
      "This tutorial introduces the reader informally to the basic concepts and features of the Python language and system. It helps to have a Python interpreter handy for hands-on experience, but all examples are self-contained, so the tutorial can be read off-line as well.\n",
      "\n",
      "For a description of standard objects and modules, see The Python Standard Library. The Python Language Reference gives a more formal definition of the language. To write extensions in C or C++, read Extending and Embedding the Python Interpreter and Python/C API Reference Manual. There are also several books covering Python in depth.\n",
      "\n",
      "This tutorial does not attempt to be comprehensive and cover every single feature, or even every commonly used feature. Instead, it introduces many of Pythonâ€™s most noteworthy features, and will give you a good idea of the languageâ€™s flavor and style. After reading it, you will be able to read and write Python modules and programs, and you will be ready to learn more about the various Python library modules described in The Python Standard Library.\n"
     ]
    }
   ],
   "source": [
    "with open(\"C:/Users/Anish/Desktop/python_intro.txt\") as f:\n",
    "    [print(line.strip())for line in f.readlines()]"
   ]
  },
  {
   "cell_type": "code",
   "execution_count": 12,
   "id": "306dd608",
   "metadata": {},
   "outputs": [
    {
     "name": "stdout",
     "output_type": "stream",
     "text": [
      "['Python', 'is', 'an', 'easy', 'to', 'learn,', 'powerful', 'programming', 'language.', 'It', 'has', 'efficient', 'high-level', 'data', 'structures', 'and', 'a', 'simple', 'but', 'effective', 'approach', 'to', 'object-oriented', 'programming.', 'Pythonâ€™s', 'elegant', 'syntax', 'and', 'dynamic', 'typing,', 'together', 'with', 'its', 'interpreted', 'nature,', 'make', 'it', 'an', 'ideal', 'language', 'for', 'scripting', 'and', 'rapid', 'application', 'development', 'in', 'many', 'areas', 'on', 'most', 'platforms.\\n']\n",
      "['\\n']\n",
      "['The', 'Python', 'interpreter', 'and', 'the', 'extensive', 'standard', 'library', 'are', 'freely', 'available', 'in', 'source', 'or', 'binary', 'form', 'for', 'all', 'major', 'platforms', 'from', 'the', 'Python', 'web', 'site,', 'https://www.python.org/,', 'and', 'may', 'be', 'freely', 'distributed.', 'The', 'same', 'site', 'also', 'contains', 'distributions', 'of', 'and', 'pointers', 'to', 'many', 'free', 'third', 'party', 'Python', 'modules,', 'programs', 'and', 'tools,', 'and', 'additional', 'documentation.\\n']\n",
      "['\\n']\n",
      "['The', 'Python', 'interpreter', 'is', 'easily', 'extended', 'with', 'new', 'functions', 'and', 'data', 'types', 'implemented', 'in', 'C', 'or', 'C++', '(or', 'other', 'languages', 'callable', 'from', 'C).', 'Python', 'is', 'also', 'suitable', 'as', 'an', 'extension', 'language', 'for', 'customizable', 'applications.\\n']\n",
      "['\\n']\n",
      "['This', 'tutorial', 'introduces', 'the', 'reader', 'informally', 'to', 'the', 'basic', 'concepts', 'and', 'features', 'of', 'the', 'Python', 'language', 'and', 'system.', 'It', 'helps', 'to', 'have', 'a', 'Python', 'interpreter', 'handy', 'for', 'hands-on', 'experience,', 'but', 'all', 'examples', 'are', 'self-contained,', 'so', 'the', 'tutorial', 'can', 'be', 'read', 'off-line', 'as', 'well.\\n']\n",
      "['\\n']\n",
      "['For', 'a', 'description', 'of', 'standard', 'objects', 'and', 'modules,', 'see', 'The', 'Python', 'Standard', 'Library.', 'The', 'Python', 'Language', 'Reference', 'gives', 'a', 'more', 'formal', 'definition', 'of', 'the', 'language.', 'To', 'write', 'extensions', 'in', 'C', 'or', 'C++,', 'read', 'Extending', 'and', 'Embedding', 'the', 'Python', 'Interpreter', 'and', 'Python/C', 'API', 'Reference', 'Manual.', 'There', 'are', 'also', 'several', 'books', 'covering', 'Python', 'in', 'depth.\\n']\n",
      "['\\n']\n",
      "['This', 'tutorial', 'does', 'not', 'attempt', 'to', 'be', 'comprehensive', 'and', 'cover', 'every', 'single', 'feature,', 'or', 'even', 'every', 'commonly', 'used', 'feature.', 'Instead,', 'it', 'introduces', 'many', 'of', 'Pythonâ€™s', 'most', 'noteworthy', 'features,', 'and', 'will', 'give', 'you', 'a', 'good', 'idea', 'of', 'the', 'languageâ€™s', 'flavor', 'and', 'style.', 'After', 'reading', 'it,', 'you', 'will', 'be', 'able', 'to', 'read', 'and', 'write', 'Python', 'modules', 'and', 'programs,', 'and', 'you', 'will', 'be', 'ready', 'to', 'learn', 'more', 'about', 'the', 'various', 'Python', 'library', 'modules', 'described', 'in', 'The', 'Python', 'Standard', 'Library.']\n"
     ]
    }
   ],
   "source": [
    "with open(\"C:/Users/Anish/Desktop/python_intro.txt\") as f:\n",
    "    for line in f.readlines():\n",
    "        line = line.split(' ')\n",
    "        print(line)"
   ]
  },
  {
   "cell_type": "code",
   "execution_count": 13,
   "id": "e66ccf7f",
   "metadata": {},
   "outputs": [
    {
     "name": "stdout",
     "output_type": "stream",
     "text": [
      "Python\n",
      "\n",
      "\n",
      "The\n",
      "\n",
      "\n",
      "The\n",
      "\n",
      "\n",
      "This\n",
      "\n",
      "\n",
      "For\n",
      "\n",
      "\n",
      "This\n"
     ]
    }
   ],
   "source": [
    "with open(\"C:/Users/Anish/Desktop/python_intro.txt\") as f:\n",
    "    for line in f.readlines():\n",
    "        line = line.split(' ')\n",
    "        print(line[0])"
   ]
  },
  {
   "cell_type": "code",
   "execution_count": 16,
   "id": "b6968053",
   "metadata": {},
   "outputs": [
    {
     "name": "stdout",
     "output_type": "stream",
     "text": [
      "Python is an easy to learn, powerful programming language. It has efficient high-level data structures and a simple but effective approach to object-oriented programming. Pythonâ€™s elegant syntax and dynamic typing, together with its interpreted nature, make it an ideal language for scripting and rapid application development in many areas on most platforms.\n",
      "\n",
      "The Python interpreter and the extensive standard library are freely available in source or binary form for all major platforms from the Python web site, https://www.python.org/, and may be freely distributed. The same site also contains distributions of and pointers to many free third party Python modules, programs and tools, and additional documentation.\n",
      "\n",
      "The Python interpreter is easily extended with new functions and data types implemented in C or C++ (or other languages callable from C). Python is also suitable as an extension language for customizable applications.\n",
      "\n",
      "This tutorial introduces the reader informally to the basic concepts and features of the Python language and system. It helps to have a Python interpreter handy for hands-on experience, but all examples are self-contained, so the tutorial can be read off-line as well.\n",
      "\n",
      "For a description of standard objects and modules, see The Python Standard Library. The Python Language Reference gives a more formal definition of the language. To write extensions in C or C++, read Extending and Embedding the Python Interpreter and Python/C API Reference Manual. There are also several books covering Python in depth.\n",
      "\n",
      "This tutorial does not attempt to be comprehensive and cover every single feature, or even every commonly used feature. Instead, it introduces many of Pythonâ€™s most noteworthy features, and will give you a good idea of the languageâ€™s flavor and style. After reading it, you will be able to read and write Python modules and programs, and you will be ready to learn more about the various Python library modules described in The Python Standard Library.\n"
     ]
    }
   ],
   "source": [
    "with open(r\"C:\\Users\\Anish\\Desktop\\python_intro.txt\") as f:\n",
    "    while True:\n",
    "        line  = f.readline()\n",
    "        if not line:\n",
    "            break\n",
    "        print(line.strip())\n",
    "     "
   ]
  },
  {
   "cell_type": "code",
   "execution_count": 22,
   "id": "7a876b4f",
   "metadata": {},
   "outputs": [
    {
     "name": "stdout",
     "output_type": "stream",
     "text": [
      "Python is an easy to learn, powerful programming language. It has efficient high-level data structures and a simple but effective approach to object-oriented programming. Python’s elegant syntax and dynamic typing, together with its interpreted nature, make it an ideal language for scripting and rapid application development in many areas on most platforms.\n",
      "\n",
      "The Python interpreter and the extensive standard library are freely available in source or binary form for all major platforms from the Python web site, https://www.python.org/, and may be freely distributed. The same site also contains distributions of and pointers to many free third party Python modules, programs and tools, and additional documentation.\n",
      "\n",
      "The Python interpreter is easily extended with new functions and data types implemented in C or C++ (or other languages callable from C). Python is also suitable as an extension language for customizable applications.\n",
      "\n",
      "This tutorial introduces the reader informally to the basic concepts and features of the Python language and system. It helps to have a Python interpreter handy for hands-on experience, but all examples are self-contained, so the tutorial can be read off-line as well.\n",
      "\n",
      "For a description of standard objects and modules, see The Python Standard Library. The Python Language Reference gives a more formal definition of the language. To write extensions in C or C++, read Extending and Embedding the Python Interpreter and Python/C API Reference Manual. There are also several books covering Python in depth.\n",
      "\n",
      "This tutorial does not attempt to be comprehensive and cover every single feature, or even every commonly used feature. Instead, it introduces many of Python’s most noteworthy features, and will give you a good idea of the language’s flavor and style. After reading it, you will be able to read and write Python modules and programs, and you will be ready to learn more about the various Python library modules described in The Python Standard Library.\n"
     ]
    }
   ],
   "source": [
    "with open(r\"C:\\Users\\Anish\\Desktop\\python_intro.txt\",encoding = 'utf-8') as f:\n",
    "    for line in f:\n",
    "        print(line.strip())"
   ]
  },
  {
   "cell_type": "markdown",
   "id": "a519ed6f",
   "metadata": {},
   "source": [
    "# python write text file"
   ]
  },
  {
   "cell_type": "code",
   "execution_count": null,
   "id": "0efd852c",
   "metadata": {},
   "outputs": [],
   "source": [
    "f = open(file,mode)             #here mode is written as w\n",
    "\n",
    "f.write('\\n')\n",
    "f.writeline(lines)"
   ]
  },
  {
   "cell_type": "code",
   "execution_count": 23,
   "id": "a63d1e9b",
   "metadata": {},
   "outputs": [
    {
     "data": {
      "text/plain": [
       "'C:\\\\Users\\\\Anish\\\\Untitled Folder'"
      ]
     },
     "execution_count": 23,
     "metadata": {},
     "output_type": "execute_result"
    }
   ],
   "source": [
    "import os \n",
    "os.getcwd()          #refers as cwd-> current working directory"
   ]
  },
  {
   "cell_type": "code",
   "execution_count": 24,
   "id": "b6985cfb",
   "metadata": {},
   "outputs": [],
   "source": [
    "lines = ['readme','how to write a text files in python']\n",
    "with open('readme.txt','w') as f:\n",
    "    for line in lines:\n",
    "        f.write(line)\n",
    "        f.write('\\n')"
   ]
  },
  {
   "cell_type": "code",
   "execution_count": 25,
   "id": "bb54c3bc",
   "metadata": {},
   "outputs": [],
   "source": [
    "lines = ['readme','how to write a text files in python']\n",
    "with open('readme1.txt','w') as f:\n",
    "    for line in lines:\n",
    "        f.writelines(lines)\n",
    "        "
   ]
  },
  {
   "cell_type": "code",
   "execution_count": 26,
   "id": "2abad726",
   "metadata": {},
   "outputs": [
    {
     "data": {
      "text/plain": [
       "['.ipynb_checkpoints',\n",
       " 'intermediate python.ipynb',\n",
       " 'introduction to python (day1).ipynb',\n",
       " 'introduction to python .ipynb',\n",
       " 'readme.txt',\n",
       " 'readme1.txt']"
      ]
     },
     "execution_count": 26,
     "metadata": {},
     "output_type": "execute_result"
    }
   ],
   "source": [
    "import os                  #if we have to check whether the file is write or not here both the files are added readme and readme1\n",
    "os.listdir()"
   ]
  },
  {
   "cell_type": "code",
   "execution_count": 27,
   "id": "01a37f55",
   "metadata": {},
   "outputs": [
    {
     "name": "stdout",
     "output_type": "stream",
     "text": [
      "[\"marks =  int(input('enter the student marks:'))\\n\", 'if marks >= 90 :\\n', \"    print('A grade')\\n\", 'elif marks >=70 and marks<89:\\n', \"    print('B grade')\\n\", 'elif marks>=50 and marks<69:\\n', \"    print('C grade')\\n\", 'elif marks>=30 and marks<49:\\n', \"    print('D grade')\\n\", 'else :\\n', \"    print('fail')\"]\n"
     ]
    }
   ],
   "source": [
    "with open(r\"C:\\Users\\Anish\\Desktop\\grade_txt.txt\")as f:   \n",
    "    contents = f.readlines()\n",
    "    print(contents)"
   ]
  },
  {
   "cell_type": "code",
   "execution_count": 7,
   "id": "3e74ad59",
   "metadata": {},
   "outputs": [],
   "source": [
    "##   task - > write output of grades in file using previous code\n",
    "import statistics\n",
    "student_info= [{'name':'sam',\n",
    "               'age':  22,\n",
    "               'subjects':['maths','science','cs','statistics','physics','bio'],\n",
    "                'marks':[60,70,80,90,50,40]},\n",
    "              {'name':'ram',\n",
    "              'age': 25,\n",
    "                'subjects':['maths','science','cs','statistics','physics','bio'],\n",
    "                'marks':[70,80,90,80,90,70]}\n",
    "              ]\n",
    "with open('average_marks.txt',mode = 'w')as f:\n",
    "    average = []\n",
    "    for marks in student_info:\n",
    "        average = statistics.mean(marks['marks'])\n",
    "        averages.append(average)\n",
    "        \n",
    "    f.write(str(averages))"
   ]
  },
  {
   "cell_type": "code",
   "execution_count": 9,
   "id": "d3f0236b",
   "metadata": {},
   "outputs": [
    {
     "data": {
      "text/plain": [
       "['[65, 80]']"
      ]
     },
     "execution_count": 9,
     "metadata": {},
     "output_type": "execute_result"
    }
   ],
   "source": [
    "f = open('average_marks.txt','r')\n",
    "f.readlines()"
   ]
  },
  {
   "cell_type": "code",
   "execution_count": 17,
   "id": "773529cb",
   "metadata": {},
   "outputs": [],
   "source": [
    "lines = ['readme','how to write text file in python programing']\n",
    "with open('readme.txt','w')as f:\n",
    "    f.write('\\n'.join(lines))\n",
    "    "
   ]
  },
  {
   "cell_type": "code",
   "execution_count": 21,
   "id": "4291ea15",
   "metadata": {},
   "outputs": [
    {
     "data": {
      "text/plain": [
       "['readme\\n',\n",
       " 'how to write text file in python programingreadme\\n',\n",
       " 'how to write text file in python programing']"
      ]
     },
     "execution_count": 21,
     "metadata": {},
     "output_type": "execute_result"
    }
   ],
   "source": [
    "f = open('readme.txt','r')\n",
    "f.readlines()"
   ]
  },
  {
   "cell_type": "code",
   "execution_count": 20,
   "id": "2bfe6112",
   "metadata": {},
   "outputs": [],
   "source": [
    "more_lines = ['','append text files','the end']\n",
    "\n",
    "with open('readme.txt','a') as f:\n",
    "    f.write('\\n'.join(lines))\n"
   ]
  },
  {
   "cell_type": "code",
   "execution_count": null,
   "id": "18ba0ff7",
   "metadata": {},
   "outputs": [],
   "source": [
    "'r'       open for reading (default)\n",
    "'w'       open for writing, truncating the file first\n",
    "'x'       create a new file and open it for writing\n",
    "'a'       open for writing, appending to the end of the file if it exists\n",
    "'b'       binary mode\n",
    "'t'       text mode (default)\n",
    "'+'       open a disk file for updating (reading and writing)"
   ]
  },
  {
   "cell_type": "markdown",
   "id": "810df761",
   "metadata": {},
   "source": [
    "# check if file exists"
   ]
  },
  {
   "cell_type": "code",
   "execution_count": null,
   "id": "63746f96",
   "metadata": {},
   "outputs": [],
   "source": [
    "\n",
    "#    os.path.exists()function\n",
    "#    from os.path import exists\n",
    "\n",
    "#    file_exists = exists(path_to_file)"
   ]
  },
  {
   "cell_type": "code",
   "execution_count": 24,
   "id": "0ee8fc6c",
   "metadata": {},
   "outputs": [
    {
     "data": {
      "text/plain": [
       "True"
      ]
     },
     "execution_count": 24,
     "metadata": {},
     "output_type": "execute_result"
    }
   ],
   "source": [
    "from os.path import exists as file_exists\n",
    "\n",
    "file_exists('readme.txt')"
   ]
  },
  {
   "cell_type": "code",
   "execution_count": 26,
   "id": "9afeab14",
   "metadata": {},
   "outputs": [
    {
     "data": {
      "text/plain": [
       "['.ipynb_checkpoints',\n",
       " 'average_marks.txt',\n",
       " 'basics of python.ipynb',\n",
       " 'intermediate python.ipynb',\n",
       " 'introduction to python (day1).ipynb',\n",
       " 'readme.txt',\n",
       " 'readme1.txt',\n",
       " 'student_info.txt']"
      ]
     },
     "execution_count": 26,
     "metadata": {},
     "output_type": "execute_result"
    }
   ],
   "source": [
    "import os\n",
    "os.listdir()"
   ]
  },
  {
   "cell_type": "code",
   "execution_count": 28,
   "id": "c38455df",
   "metadata": {},
   "outputs": [
    {
     "data": {
      "text/plain": [
       "False"
      ]
     },
     "execution_count": 28,
     "metadata": {},
     "output_type": "execute_result"
    }
   ],
   "source": [
    "#another one method to find whether the file is exists or  not\n",
    "#path.is_file() method\n",
    "\n",
    "from pathlib import Path\n",
    "\n",
    "path = Path('readme2.txt')\n",
    "\n",
    "path.is_file()"
   ]
  },
  {
   "cell_type": "code",
   "execution_count": 32,
   "id": "722da1af",
   "metadata": {},
   "outputs": [
    {
     "name": "stdout",
     "output_type": "stream",
     "text": [
      "the file readme2.txt does not exist\n"
     ]
    }
   ],
   "source": [
    "from pathlib import Path\n",
    "\n",
    "path_to_file = 'readme2.txt'\n",
    "path = Path(path_to_file)\n",
    "\n",
    "if path.is_file():\n",
    "    print(f'the file {path_to_file} exists')\n",
    "else:\n",
    "    print(f'the file {path_to_file} does not exist')"
   ]
  },
  {
   "cell_type": "markdown",
   "id": "306f779f",
   "metadata": {},
   "source": [
    "# Read CSV File (comma-separated values)"
   ]
  },
  {
   "cell_type": "code",
   "execution_count": null,
   "id": "3481488f",
   "metadata": {},
   "outputs": [],
   "source": [
    "# A CSV file stores tabular data (numbers and text) in plain text, where each line of the file typically represents one data record. \n",
    "# Each record consists of the same number of fields, and these are separated by commas in the CSV file."
   ]
  },
  {
   "cell_type": "code",
   "execution_count": 42,
   "id": "fbc3389b",
   "metadata": {},
   "outputs": [
    {
     "name": "stdout",
     "output_type": "stream",
     "text": [
      "['index', 'Product Name', 'Product URL', 'Brand', 'Sale Price', 'Mrp', 'Discount Percentage', 'Number Of Ratings', 'Number Of Reviews', 'Upc', 'Star Rating', 'Ram']\n",
      "['0', 'APPLE iPhone 8 Plus (Gold, 64 GB)', 'https://www.flipkart.com/apple-iphone-8-plus-gold-64-gb/p/itmexrgvuzgzttzh?pid=MOBEXRGV7EHHTGUH', 'Apple', '49900', '49900', '0', '3431', '356', 'MOBEXRGV7EHHTGUH', '4.6', '2 GB']\n",
      "['1', 'APPLE iPhone 8 Plus (Space Grey, 256 GB)', 'https://www.flipkart.com/apple-iphone-8-plus-space-grey-256-gb/p/itmexrgvzkbyqgtf?pid=MOBEXRGVAC6TJT4F', 'Apple', '84900', '84900', '0', '3431', '356', 'MOBEXRGVAC6TJT4F', '4.6', '2 GB']\n",
      "['2', 'APPLE iPhone 8 Plus (Silver, 256 GB)', 'https://www.flipkart.com/apple-iphone-8-plus-silver-256-gb/p/itmexrgvxatuyrqw?pid=MOBEXRGVGETABXWZ', 'Apple', '84900', '84900', '0', '3431', '356', 'MOBEXRGVGETABXWZ', '4.6', '2 GB']\n",
      "['3', 'APPLE iPhone 8 (Silver, 256 GB)', 'https://www.flipkart.com/apple-iphone-8-silver-256-gb/p/itmexrgvae48gzhp?pid=MOBEXRGVMZWUHCBA', 'Apple', '77000', '77000', '0', '11202', '794', 'MOBEXRGVMZWUHCBA', '4.5', '2 GB']\n",
      "['4', 'APPLE iPhone 8 (Gold, 256 GB)', 'https://www.flipkart.com/apple-iphone-8-gold-256-gb/p/itmexrgv8bvfbzgw?pid=MOBEXRGVPK7PFEJZ', 'Apple', '77000', '77000', '0', '11202', '794', 'MOBEXRGVPK7PFEJZ', '4.5', '2 GB']\n",
      "['5', 'APPLE iPhone 8 Plus (Silver, 64 GB)', 'https://www.flipkart.com/apple-iphone-8-plus-silver-64-gb/p/itmexrgv7yfjbryy?pid=MOBEXRGVQGYYP8FV', 'Apple', '49900', '49900', '0', '3431', '356', 'MOBEXRGVQGYYP8FV', '4.6', '2 GB']\n",
      "['6', 'APPLE iPhone 8 Plus (Space Grey, 64 GB)', 'https://www.flipkart.com/apple-iphone-8-plus-space-grey-64-gb/p/itmexrgvehtzhh9v?pid=MOBEXRGVQKBREZP8', 'Apple', '49900', '49900', '0', '3431', '356', 'MOBEXRGVQKBREZP8', '4.6', '2 GB']\n",
      "['7', 'APPLE iPhone 8 (Space Grey, 256 GB)', 'https://www.flipkart.com/apple-iphone-8-space-grey-256-gb/p/itmexrgvypzqw6df?pid=MOBEXRGVZFZGZEWV', 'Apple', '77000', '77000', '0', '11202', '794', 'MOBEXRGVZFZGZEWV', '4.5', '2 GB']\n",
      "['8', 'APPLE iPhone XS Max (Silver, 64 GB)', 'https://www.flipkart.com/apple-iphone-xs-max-silver-64-gb/p/itmf944ehzsh7emx?pid=MOBF944E2XAHW8V5', 'Apple', '89900', '89900', '0', '1454', '149', 'MOBF944E2XAHW8V5', '4.6', '4 GB']\n",
      "['9', 'Apple iPhone XR ((PRODUCT)RED, 128 GB) (Includes EarPods, Power Adapter)', 'https://www.flipkart.com/apple-iphone-xr-product-red-128-gb-includes-earpods-power-adapter/p/itmf9z7zbkvjzegf?pid=MOBF9Z7ZHQC23PWQ', 'Apple', '41999', '52900', '20', '79512', '6796', 'MOBF9Z7ZHQC23PWQ', '4.6', '4 GB']\n",
      "['10', 'Apple iPhone XR (Black, 64 GB) (Includes EarPods, Power Adapter)', 'https://www.flipkart.com/apple-iphone-xr-black-64-gb-includes-earpods-power-adapter/p/itmf9z7zxu4uqyz2?pid=MOBF9Z7ZPHGV4GNH', 'Apple', '39999', '47900', '16', '79512', '6796', 'MOBF9Z7ZPHGV4GNH', '4.6', '4 GB']\n",
      "['11', 'Apple iPhone XR (Coral, 128 GB) (Includes EarPods, Power Adapter)', 'https://www.flipkart.com/apple-iphone-xr-coral-128-gb-includes-earpods-power-adapter/p/itmf9z7zgxx5wgez?pid=MOBF9Z7ZS6GF5UAP', 'Apple', '41999', '52900', '20', '79582', '6804', 'MOBF9Z7ZS6GF5UAP', '4.6', '4 GB']\n",
      "['12', 'Apple iPhone XR (Black, 128 GB) (Includes EarPods, Power Adapter)', 'https://www.flipkart.com/apple-iphone-xr-black-128-gb-includes-earpods-power-adapter/p/itmf9z7zhdgzwmzm?pid=MOBF9Z7ZYWNFGZUC', 'Apple', '41999', '52900', '20', '79512', '6796', 'MOBF9Z7ZYWNFGZUC', '4.6', '3 GB']\n",
      "['13', 'Apple iPhone XR (White, 128 GB) (Includes EarPods, Power Adapter)', 'https://www.flipkart.com/apple-iphone-xr-white-128-gb-includes-earpods-power-adapter/p/itmf9z7zrz4tbhwm?pid=MOBF9Z7ZZY3HCDZZ', 'Apple', '41999', '52900', '20', '79512', '6796', 'MOBF9Z7ZZY3HCDZZ', '4.6', '4 GB']\n",
      "['14', 'APPLE iPhone 11 Pro Max (Gold, 256 GB)', 'https://www.flipkart.com/apple-iphone-11-pro-max-gold-256-gb/p/itm94c6536eefc46?pid=MOBFKCTS7HCHSPFH', 'Apple', '131900', '131900', '0', '1078', '101', 'MOBFKCTS7HCHSPFH', '4.7', '4 GB']\n",
      "['15', 'APPLE iPhone 11 Pro Max (Gold, 64 GB)', 'https://www.flipkart.com/apple-iphone-11-pro-max-gold-64-gb/p/itm6ef18218efdf6?pid=MOBFKCTSAPAYNSGG', 'Apple', '117100', '117100', '0', '1078', '101', 'MOBFKCTSAPAYNSGG', '4.7', '4 GB']\n",
      "['16', 'APPLE iPhone 11 Pro Max (Midnight Green, 256 GB)', 'https://www.flipkart.com/apple-iphone-11-pro-max-midnight-green-256-gb/p/itm68e0db18f9ecc?pid=MOBFKCTSCAAKGQV7', 'Apple', '131900', '131900', '0', '1078', '101', 'MOBFKCTSCAAKGQV7', '4.7', '4 GB']\n",
      "['17', 'APPLE iPhone 11 Pro Max (Space Grey, 64 GB)', 'https://www.flipkart.com/apple-iphone-11-pro-max-space-grey-64-gb/p/itme0101031155f8?pid=MOBFKCTSKDMKCGQS', 'Apple', '117100', '117100', '0', '1078', '101', 'MOBFKCTSKDMKCGQS', '4.7', '4 GB']\n",
      "['18', 'APPLE iPhone 11 Pro (Midnight Green, 64 GB)', 'https://www.flipkart.com/apple-iphone-11-pro-midnight-green-64-gb/p/itm471de0d2e8474?pid=MOBFKCTSN3TG3RFJ', 'Apple', '74999', '106600', '29', '7088', '523', 'MOBFKCTSN3TG3RFJ', '4.6', '4 GB']\n",
      "['19', 'APPLE iPhone 11 Pro (Space Grey, 512 GB)', 'https://www.flipkart.com/apple-iphone-11-pro-space-grey-512-gb/p/itmcd1f0ddbf1c21?pid=MOBFKCTSRTHRQTFT', 'Apple', '117900', '140300', '15', '7088', '523', 'MOBFKCTSRTHRQTFT', '4.6', '4 GB']\n",
      "['20', 'APPLE iPhone 11 Pro Max (Midnight Green, 64 GB)', 'https://www.flipkart.com/apple-iphone-11-pro-max-midnight-green-64-gb/p/itmab1763b5ca244?pid=MOBFKCTSRYPAQNYT', 'Apple', '117100', '117100', '0', '1078', '101', 'MOBFKCTSRYPAQNYT', '4.7', '4 GB']\n",
      "['21', 'APPLE iPhone 11 Pro (Midnight Green, 512 GB)', 'https://www.flipkart.com/apple-iphone-11-pro-midnight-green-512-gb/p/itm0bdd954387ca9?pid=MOBFKCTSSJCWYGCC', 'Apple', '117900', '140300', '15', '7088', '523', 'MOBFKCTSSJCWYGCC', '4.6', '4 GB']\n",
      "['22', 'APPLE iPhone 11 Pro (Space Grey, 256 GB)', 'https://www.flipkart.com/apple-iphone-11-pro-space-grey-256-gb/p/itmbecef22a95790?pid=MOBFKCTSWGYSAS9X', 'Apple', '99900', '121300', '17', '7081', '522', 'MOBFKCTSWGYSAS9X', '4.6', '4 GB']\n",
      "['23', 'Apple iPhone SE (White, 256 GB) (Includes EarPods, Power Adapter)', 'https://www.flipkart.com/apple-iphone-se-white-256-gb-includes-earpods-power-adapter/p/itm4d73793c30c4c?pid=MOBFRFXHPZCHAPEH', 'Apple', '44999', '54900', '18', '95909', '8161', 'MOBFRFXHPZCHAPEH', '4.5', '2 GB']\n",
      "['24', 'APPLE iPhone 12 Pro (Silver, 512 GB)', 'https://www.flipkart.com/apple-iphone-12-pro-silver-512-gb/p/itm0ccf9fc219a71?pid=MOBFWBYZ5UY6ZBVA', 'Apple', '140900', '149900', '6', '542', '42', 'MOBFWBYZ5UY6ZBVA', '4.5', '4 GB']\n",
      "['25', 'APPLE iPhone 12 Pro Max (Pacific Blue, 256 GB)', 'https://www.flipkart.com/apple-iphone-12-pro-max-pacific-blue-256-gb/p/itm3a0860c94250e?pid=MOBFWBYZ8STJXCVT', 'Apple', '130900', '139900', '6', '580', '45', 'MOBFWBYZ8STJXCVT', '4.6', '6 GB']\n",
      "['26', 'APPLE iPhone 12 Mini (White, 128 GB)', 'https://www.flipkart.com/apple-iphone-12-mini-white-128-gb/p/itm9098fa76548ba?pid=MOBFWBYZAGXJRDGB', 'Apple', '64900', '74900', '13', '740', '64', 'MOBFWBYZAGXJRDGB', '4.5', '4 GB']\n",
      "['27', 'APPLE iPhone 12 Pro (Graphite, 256 GB)', 'https://www.flipkart.com/apple-iphone-12-pro-graphite-256-gb/p/itm4fa4da575698c?pid=MOBFWBYZBA36UB7G', 'Apple', '120900', '129900', '6', '545', '42', 'MOBFWBYZBA36UB7G', '4.5', '6 GB']\n",
      "['28', 'APPLE iPhone 12 Mini (White, 64 GB)', 'https://www.flipkart.com/apple-iphone-12-mini-white-64-gb/p/itmf3b16d1640898?pid=MOBFWBYZBH4CEC4C', 'Apple', '59900', '69900', '14', '740', '64', 'MOBFWBYZBH4CEC4C', '4.5', '4 GB']\n",
      "['29', 'APPLE iPhone 12 (White, 128 GB)', 'https://www.flipkart.com/apple-iphone-12-white-128-gb/p/itm95393f4c6cc59?pid=MOBFWBYZBTZFGJF9', 'Apple', '75900', '84900', '10', '2101', '180', 'MOBFWBYZBTZFGJF9', '4.6', '6 GB']\n",
      "['30', 'APPLE iPhone 12 Pro (Graphite, 128 GB)', 'https://www.flipkart.com/apple-iphone-12-pro-graphite-128-gb/p/itm03e5f2595d843?pid=MOBFWBYZBZ7Y56WD', 'Apple', '110900', '119900', '7', '545', '42', 'MOBFWBYZBZ7Y56WD', '4.5', '6 GB']\n",
      "['31', 'APPLE iPhone 12 Pro Max (Graphite, 256 GB)', 'https://www.flipkart.com/apple-iphone-12-pro-max-graphite-256-gb/p/itm8dbdf0b986725?pid=MOBFWBYZEF6XQ5ZW', 'Apple', '130900', '139900', '6', '580', '45', 'MOBFWBYZEF6XQ5ZW', '4.6', '6 GB']\n",
      "['32', 'APPLE iPhone 12 Pro Max (Graphite, 128 GB)', 'https://www.flipkart.com/apple-iphone-12-pro-max-graphite-128-gb/p/itm973c298184f51?pid=MOBFWBYZFDGQSDWS', 'Apple', '120900', '129900', '6', '580', '45', 'MOBFWBYZFDGQSDWS', '4.6', '6 GB']\n",
      "['33', 'APPLE iPhone 12 Mini (Black, 128 GB)', 'https://www.flipkart.com/apple-iphone-12-mini-black-128-gb/p/itm0eb512c195bdf?pid=MOBFWBYZH2AMPNPD', 'Apple', '64900', '74900', '13', '730', '63', 'MOBFWBYZH2AMPNPD', '4.5', '4 GB']\n",
      "['34', 'APPLE iPhone 12 Mini (Blue, 128 GB)', 'https://www.flipkart.com/apple-iphone-12-mini-blue-128-gb/p/itm9b6cdec9700ee?pid=MOBFWBYZHU58PHCZ', 'Apple', '64900', '74900', '13', '730', '63', 'MOBFWBYZHU58PHCZ', '4.5', '4 GB']\n",
      "['35', 'APPLE iPhone 12 (Black, 128 GB)', 'https://www.flipkart.com/apple-iphone-12-black-128-gb/p/itmf1f0a58f1ecd7?pid=MOBFWBYZK3HACR72', 'Apple', '75900', '84900', '10', '2101', '180', 'MOBFWBYZK3HACR72', '4.6', '6 GB']\n",
      "['36', 'APPLE iPhone 12 (Blue, 128 GB)', 'https://www.flipkart.com/apple-iphone-12-blue-128-gb/p/itm02853ae92e90a?pid=MOBFWBYZKPTZF9VG', 'Apple', '75900', '84900', '10', '2101', '180', 'MOBFWBYZKPTZF9VG', '4.6', '6 GB']\n",
      "['37', 'APPLE iPhone 12 Pro Max (Silver, 128 GB)', 'https://www.flipkart.com/apple-iphone-12-pro-max-silver-128-gb/p/itm5a51ba742a17e?pid=MOBFWBYZNSNVGGZC', 'Apple', '120900', '129900', '6', '580', '45', 'MOBFWBYZNSNVGGZC', '4.6', '6 GB']\n",
      "['38', 'APPLE iPhone 12 Mini (Red, 64 GB)', 'https://www.flipkart.com/apple-iphone-12-mini-red-64-gb/p/itm255dd64643767?pid=MOBFWBYZNVWGWN2U', 'Apple', '59900', '69900', '14', '740', '64', 'MOBFWBYZNVWGWN2U', '4.5', '6 GB']\n",
      "['39', 'APPLE iPhone 12 Pro Max (Gold, 128 GB)', 'https://www.flipkart.com/apple-iphone-12-pro-max-gold-128-gb/p/itme3ae592065711?pid=MOBFWBYZQVKT77YH', 'Apple', '120900', '129900', '6', '580', '45', 'MOBFWBYZQVKT77YH', '4.6', '6 GB']\n",
      "['40', 'APPLE iPhone 12 (Green, 128 GB)', 'https://www.flipkart.com/apple-iphone-12-green-128-gb/p/itm4e0a120f7d9c4?pid=MOBFWBYZQXUEHF48', 'Apple', '75900', '84900', '10', '2092', '178', 'MOBFWBYZQXUEHF48', '4.6', '6 GB']\n",
      "['41', 'APPLE iPhone 12 Pro (Pacific Blue, 512 GB)', 'https://www.flipkart.com/apple-iphone-12-pro-pacific-blue-512-gb/p/itm8a39d6779b04e?pid=MOBFWBYZTHSXKMGW', 'Apple', '140900', '149900', '6', '545', '42', 'MOBFWBYZTHSXKMGW', '4.5', '4 GB']\n",
      "['42', 'APPLE iPhone 12 (White, 64 GB)', 'https://www.flipkart.com/apple-iphone-12-white-64-gb/p/itm8b88bdc03cd79?pid=MOBFWBYZTK33MBG9', 'Apple', '70900', '79900', '11', '2101', '180', 'MOBFWBYZTK33MBG9', '4.6', '6 GB']\n",
      "['43', 'APPLE iPhone 12 (Black, 64 GB)', 'https://www.flipkart.com/apple-iphone-12-black-64-gb/p/itma2559422bf7c7?pid=MOBFWBYZU5FWK2VP', 'Apple', '70900', '79900', '11', '2092', '178', 'MOBFWBYZU5FWK2VP', '4.6', '6 GB']\n",
      "['44', 'APPLE iPhone 12 (Red, 128 GB)', 'https://www.flipkart.com/apple-iphone-12-red-128-gb/p/itma7bd86885ed98?pid=MOBFWBYZUHPFWQRD', 'Apple', '75900', '84900', '10', '2101', '180', 'MOBFWBYZUHPFWQRD', '4.6', '6 GB']\n",
      "['45', 'APPLE iPhone 12 Mini (Black, 64 GB)', 'https://www.flipkart.com/apple-iphone-12-mini-black-64-gb/p/itm38b727191eb08?pid=MOBFWBYZXSEGBS6F', 'Apple', '59900', '69900', '14', '740', '64', 'MOBFWBYZXSEGBS6F', '4.5', '4 GB']\n",
      "['46', 'APPLE iPhone 12 Pro (Pacific Blue, 128 GB)', 'https://www.flipkart.com/apple-iphone-12-pro-pacific-blue-128-gb/p/itm97c833296c221?pid=MOBFWBYZXYSCEEEH', 'Apple', '110900', '119900', '7', '545', '42', 'MOBFWBYZXYSCEEEH', '4.5', '6 GB']\n",
      "['47', 'APPLE iPhone 12 Pro Max (Pacific Blue, 128 GB)', 'https://www.flipkart.com/apple-iphone-12-pro-max-pacific-blue-128-gb/p/itmd89812b558a03?pid=MOBFWBYZZABKHZQA', 'Apple', '120900', '129900', '6', '580', '45', 'MOBFWBYZZABKHZQA', '4.6', '6 GB']\n",
      "['48', 'APPLE iPhone 12 Pro Max (Silver, 256 GB)', 'https://www.flipkart.com/apple-iphone-12-pro-max-silver-256-gb/p/itm30faf74442adb?pid=MOBFWBYZZH4AM8FE', 'Apple', '130900', '139900', '6', '580', '45', 'MOBFWBYZZH4AM8FE', '4.6', '6 GB']\n",
      "['49', 'APPLE iPhone 12 Pro Max (Gold, 256 GB)', 'https://www.flipkart.com/apple-iphone-12-pro-max-gold-256-gb/p/itm1e0354f5bbc8c?pid=MOBFWBYZZPW8JHQF', 'Apple', '130900', '139900', '6', '580', '45', 'MOBFWBYZZPW8JHQF', '4.6', '6 GB']\n",
      "['50', 'APPLE iPhone 11 (White, 128 GB)', 'https://www.flipkart.com/apple-iphone-11-white-128-gb/p/itme32df47ea6742?pid=MOBFWQ6B7KKRXDDS', 'Apple', '54999', '59900', '8', '43707', '3357', 'MOBFWQ6B7KKRXDDS', '4.6', '4 GB']\n",
      "['51', 'APPLE iPhone 11 (Red, 128 GB)', 'https://www.flipkart.com/apple-iphone-11-red-128-gb/p/itm8d14bd0e33a1c?pid=MOBFWQ6BEZTNK59G', 'Apple', '54999', '59900', '8', '43707', '3357', 'MOBFWQ6BEZTNK59G', '4.6', '4 GB']\n",
      "['52', 'APPLE iPhone SE (White, 64 GB)', 'https://www.flipkart.com/apple-iphone-se-white-64-gb/p/itma00a19e11c81b?pid=MOBFWQ6BGWDVGF3E', 'Apple', '29999', '39900', '24', '95807', '8154', 'MOBFWQ6BGWDVGF3E', '4.5', '2 GB']\n",
      "['53', 'APPLE iPhone SE (Black, 128 GB)', 'https://www.flipkart.com/apple-iphone-se-black-128-gb/p/itma9285ccc6af28?pid=MOBFWQ6BHUEVZPXD', 'Apple', '34999', '44900', '22', '95909', '8161', 'MOBFWQ6BHUEVZPXD', '4.5', '2 GB']\n",
      "['54', 'APPLE iPhone SE (White, 128 GB)', 'https://www.flipkart.com/apple-iphone-se-white-128-gb/p/itmc2a0f593a4ad8?pid=MOBFWQ6BJEHMUUZY', 'Apple', '34999', '44900', '22', '95807', '8154', 'MOBFWQ6BJEHMUUZY', '4.5', '2 GB']\n",
      "['55', 'APPLE iPhone SE (Red, 128 GB)', 'https://www.flipkart.com/apple-iphone-se-red-128-gb/p/itma4202509da171?pid=MOBFWQ6BJTVFKPEJ', 'Apple', '34999', '44900', '22', '95909', '8161', 'MOBFWQ6BJTVFKPEJ', '4.5', '2 GB']\n",
      "['56', 'APPLE iPhone 11 (Black, 128 GB)', 'https://www.flipkart.com/apple-iphone-11-black-128-gb/p/itm8244e8d955aba?pid=MOBFWQ6BKRYBP5X8', 'Apple', '54999', '59900', '8', '43470', '3331', 'MOBFWQ6BKRYBP5X8', '4.6', '4 GB']\n",
      "['57', 'APPLE iPhone SE (Black, 64 GB)', 'https://www.flipkart.com/apple-iphone-se-black-64-gb/p/itm4d3d5718a5c95?pid=MOBFWQ6BR3MK7AUG', 'Apple', '29999', '39900', '24', '95909', '8161', 'MOBFWQ6BR3MK7AUG', '4.5', '4 GB']\n",
      "['58', 'APPLE iPhone 11 (Purple, 64 GB)', 'https://www.flipkart.com/apple-iphone-11-purple-64-gb/p/itm2b8d03427ddac?pid=MOBFWQ6BTFFJKGKE', 'Apple', '46999', '54900', '14', '43470', '3331', 'MOBFWQ6BTFFJKGKE', '4.6', '4 GB']\n",
      "['59', 'APPLE iPhone 11 (White, 64 GB)', 'https://www.flipkart.com/apple-iphone-11-white-64-gb/p/itmfc6a7091eb20b?pid=MOBFWQ6BVWVEH3XE', 'Apple', '46999', '54900', '14', '43470', '3331', 'MOBFWQ6BVWVEH3XE', '4.6', '4 GB']\n",
      "['60', 'APPLE iPhone 11 (Black, 64 GB)', 'https://www.flipkart.com/apple-iphone-11-black-64-gb/p/itm4e5041ba101fd?pid=MOBFWQ6BXGJCEYNY', 'Apple', '46999', '54900', '14', '43470', '3331', 'MOBFWQ6BXGJCEYNY', '4.6', '4 GB']\n",
      "['61', 'APPLE iPhone 11 (Red, 64 GB)', 'https://www.flipkart.com/apple-iphone-11-red-64-gb/p/itmc3935326f2feb?pid=MOBFWQ6BYYV3FCU7', 'Apple', '46999', '54900', '14', '43470', '3331', 'MOBFWQ6BYYV3FCU7', '4.6', '4 GB']\n"
     ]
    }
   ],
   "source": [
    "import csv\n",
    "#f = open('path/to/csv_file')\n",
    "f = open(r\"C:\\Users\\Anish\\Desktop\\apple_products.csv\", encoding = 'UTF8')\n",
    "csv_reader = csv.reader(f)\n",
    "for line in csv_reader:\n",
    "    print(line)\n",
    "\n",
    "f.close()"
   ]
  },
  {
   "cell_type": "code",
   "execution_count": 44,
   "id": "27187292",
   "metadata": {},
   "outputs": [
    {
     "name": "stdout",
     "output_type": "stream",
     "text": [
      "['Sale Price', '49900', '84900', '84900', '77000', '77000', '49900', '49900', '77000', '89900', '41999', '39999', '41999', '41999', '41999', '131900', '117100', '131900', '117100', '74999', '117900', '117100', '117900', '99900', '44999', '140900', '130900', '64900', '120900', '59900', '75900', '110900', '130900', '120900', '64900', '64900', '75900', '75900', '120900', '59900', '120900', '75900', '140900', '70900', '70900', '75900', '59900', '110900', '120900', '130900', '130900', '54999', '54999', '29999', '34999', '34999', '34999', '54999', '29999', '46999', '46999', '46999', '46999']\n"
     ]
    }
   ],
   "source": [
    "import csv\n",
    "#f = open('path/to/csv_file')\n",
    "f = open(r\"C:\\Users\\Anish\\Desktop\\apple_products.csv\", encoding = 'UTF8')\n",
    "csv_reader = csv.reader(f)\n",
    "sale_price = []\n",
    "for line in csv_reader:\n",
    "    sale_price.append(line[4])\n",
    "print(sale_price)\n",
    "\n",
    "f.close()"
   ]
  },
  {
   "cell_type": "code",
   "execution_count": 49,
   "id": "482c0d19",
   "metadata": {},
   "outputs": [
    {
     "name": "stdout",
     "output_type": "stream",
     "text": [
      "80073.89\n"
     ]
    }
   ],
   "source": [
    "import csv\n",
    "f = open(r\"C:\\Users\\Anish\\Desktop\\apple_products.csv\",encoding = 'UTF8')\n",
    "csv_reader = csv.reader(f)\n",
    "sale_price=[]\n",
    "for line in csv_reader:\n",
    "    sale_price.append(line[4])\n",
    "#print(sale_price)\n",
    "price = sale_price[1:]\n",
    "values = []\n",
    "for i in price:\n",
    "    price = int(i)\n",
    "    values.append(price)\n",
    "print(round(statistics.mean(values),2))\n",
    "       # print(price)\n",
    "      \n",
    "        \n",
    "f.close()"
   ]
  },
  {
   "cell_type": "markdown",
   "id": "278624df",
   "metadata": {},
   "source": [
    "# writing csv file"
   ]
  },
  {
   "cell_type": "code",
   "execution_count": 50,
   "id": "a3a94410",
   "metadata": {},
   "outputs": [],
   "source": [
    "import csv \n",
    "\n",
    "header = ['name','area','country_code2','country_code3']\n",
    "data = ['Afganistan',652090,'AF','AFG']\n",
    "\n",
    "with open ('countries.csv','w',encoding='UTF8',newline='') as f:\n",
    "    writer = csv.writer(f)\n",
    "\n",
    "    \n",
    "    #writer the header\n",
    "    writer.writerow(header)\n",
    "    \n",
    "    #writer the data\n",
    "    writer.writerow(data)"
   ]
  },
  {
   "cell_type": "code",
   "execution_count": 51,
   "id": "41eed155",
   "metadata": {},
   "outputs": [
    {
     "data": {
      "text/plain": [
       "['.ipynb_checkpoints',\n",
       " 'average_marks.txt',\n",
       " 'basics of python.ipynb',\n",
       " 'countries.csv',\n",
       " 'intermediate python.ipynb',\n",
       " 'introduction to python (day1).ipynb',\n",
       " 'readme.txt',\n",
       " 'readme1.txt',\n",
       " 'student_info.txt']"
      ]
     },
     "execution_count": 51,
     "metadata": {},
     "output_type": "execute_result"
    }
   ],
   "source": [
    "os.listdir()"
   ]
  },
  {
   "cell_type": "code",
   "execution_count": 54,
   "id": "e31c5ace",
   "metadata": {},
   "outputs": [],
   "source": [
    "import csv \n",
    "\n",
    "header = ['name','area','country_code2','country_code3']\n",
    "data = [\n",
    "    ['Albania',28748,'AL','ALB'],\n",
    "    ['Algeria',2381930,'DZ','DZA'],\n",
    "    ['American samoa',199,'AS','ASM'],\n",
    "    ['Andorra',468,'AD','AND'],\n",
    "    ['Angola',1246700,'AO','AGO']\n",
    "]\n",
    "\n",
    "\n",
    "with open('countries.csv','w',encoding='UTF8',newline ='') as f:\n",
    "    \n",
    "\n",
    "\n",
    "    writer = csv.writer(f)\n",
    "\n",
    "    \n",
    "    #writer the header\n",
    "    writer.writerow(header)\n",
    "    \n",
    "    #writer the data\n",
    "    writer.writerow(data)"
   ]
  },
  {
   "cell_type": "code",
   "execution_count": 55,
   "id": "6cdc85b0",
   "metadata": {},
   "outputs": [
    {
     "data": {
      "text/plain": [
       "['.ipynb_checkpoints',\n",
       " 'average_marks.txt',\n",
       " 'basics of python.ipynb',\n",
       " 'countries.csv',\n",
       " 'intermediate python.ipynb',\n",
       " 'introduction to python (day1).ipynb',\n",
       " 'readme.txt',\n",
       " 'readme1.txt',\n",
       " 'student_info.txt']"
      ]
     },
     "execution_count": 55,
     "metadata": {},
     "output_type": "execute_result"
    }
   ],
   "source": [
    "os.listdir()"
   ]
  },
  {
   "cell_type": "code",
   "execution_count": 21,
   "id": "1e1fb350",
   "metadata": {},
   "outputs": [],
   "source": [
    "#usng dictwriter\n",
    "\n",
    "import csv\n",
    "#csv header\n",
    "fieldnames = ['name','area','country_code2','country_code3']        #header\n",
    "\n",
    "#csv data\n",
    "rows = [                                 \n",
    "     {'name':'Albania',\n",
    "     'area':28748,\n",
    "     'country_code2':'AL',\n",
    "     'country_code3':'ALB'},\n",
    "     {'name':'Algeria',\n",
    "     'area':37843,\n",
    "     'country_code2':'DZ',\n",
    "     'country_code3':'DZA' },\n",
    "     {'name':'American samoa',\n",
    "     'area':199,\n",
    "     'country_code2':'AS',\n",
    "     'country_code3':'ASM'}\n",
    "        ]\n",
    "\n",
    "with open('countries4.csv','w',encoding='UTF8',newline='')as f:\n",
    "    writer = csv.DictWriter(f,fieldnames = fieldnames)\n",
    "    writer.writeheader()\n",
    "    writer.writerows(rows)\n",
    "    "
   ]
  },
  {
   "cell_type": "code",
   "execution_count": 22,
   "id": "af6a6fa8",
   "metadata": {},
   "outputs": [
    {
     "data": {
      "text/plain": [
       "['.ipynb_checkpoints',\n",
       " 'average_marks.txt',\n",
       " 'basics of python.ipynb',\n",
       " 'countries.csv',\n",
       " 'countries4.csv',\n",
       " 'intermediate python.ipynb',\n",
       " 'introduction to python (day1).ipynb',\n",
       " 'python interview questions.ipynb',\n",
       " 'readme.txt',\n",
       " 'readme1.txt',\n",
       " 'student_info.txt',\n",
       " 'testfile']"
      ]
     },
     "execution_count": 22,
     "metadata": {},
     "output_type": "execute_result"
    }
   ],
   "source": [
    "import os \n",
    "os.listdir()"
   ]
  },
  {
   "cell_type": "code",
   "execution_count": 23,
   "id": "8e58ffb9",
   "metadata": {},
   "outputs": [
    {
     "data": {
      "text/plain": [
       "['name,area,country_code2,country_code3\\n',\n",
       " 'Albania,28748,AL,ALB\\n',\n",
       " 'Algeria,37843,DZ,DZA\\n',\n",
       " 'American samoa,199,AS,ASM\\n']"
      ]
     },
     "execution_count": 23,
     "metadata": {},
     "output_type": "execute_result"
    }
   ],
   "source": [
    "f = open('countries4.csv','r')\n",
    "f.readlines()"
   ]
  },
  {
   "cell_type": "code",
   "execution_count": 25,
   "id": "c1ead3ea",
   "metadata": {},
   "outputs": [],
   "source": [
    "#Rename file\n",
    "import os\n",
    "\n",
    "os.rename('readme.txt','notes.txt')"
   ]
  },
  {
   "cell_type": "code",
   "execution_count": 28,
   "id": "b3a96d96",
   "metadata": {},
   "outputs": [
    {
     "ename": "FileNotFoundError",
     "evalue": "[WinError 2] The system cannot find the file specified: 'readme.txt'",
     "output_type": "error",
     "traceback": [
      "\u001b[1;31m---------------------------------------------------------------------------\u001b[0m",
      "\u001b[1;31mFileNotFoundError\u001b[0m                         Traceback (most recent call last)",
      "Cell \u001b[1;32mIn[28], line 4\u001b[0m\n\u001b[0;32m      1\u001b[0m \u001b[38;5;66;03m#Deleting file\u001b[39;00m\n\u001b[0;32m      2\u001b[0m \u001b[38;5;28;01mimport\u001b[39;00m \u001b[38;5;21;01mos\u001b[39;00m\n\u001b[1;32m----> 4\u001b[0m os\u001b[38;5;241m.\u001b[39mremove(\u001b[38;5;124m'\u001b[39m\u001b[38;5;124mreadme.txt\u001b[39m\u001b[38;5;124m'\u001b[39m)\n",
      "\u001b[1;31mFileNotFoundError\u001b[0m: [WinError 2] The system cannot find the file specified: 'readme.txt'"
     ]
    }
   ],
   "source": [
    "#Deleting file\n",
    "import os\n",
    "\n",
    "os.remove('readme.txt')"
   ]
  },
  {
   "cell_type": "code",
   "execution_count": 30,
   "id": "37c2d8e2",
   "metadata": {},
   "outputs": [],
   "source": [
    "import os\n",
    "\n",
    "filename = 'readme.txt'\n",
    "if os.path.exists(filename):\n",
    "    os.remove(filename)"
   ]
  },
  {
   "cell_type": "code",
   "execution_count": 32,
   "id": "016f817e",
   "metadata": {},
   "outputs": [
    {
     "data": {
      "text/plain": [
       "['.ipynb_checkpoints',\n",
       " 'average_marks.txt',\n",
       " 'basics of python.ipynb',\n",
       " 'countries.csv',\n",
       " 'countries4.csv',\n",
       " 'intermediate python.ipynb',\n",
       " 'introduction to python (day1).ipynb',\n",
       " 'notes.txt',\n",
       " 'python interview questions.ipynb',\n",
       " 'readme1.txt',\n",
       " 'student_info.txt',\n",
       " 'testfile']"
      ]
     },
     "execution_count": 32,
     "metadata": {},
     "output_type": "execute_result"
    }
   ],
   "source": [
    "os.listdir()"
   ]
  },
  {
   "cell_type": "markdown",
   "id": "6cb7aa03",
   "metadata": {},
   "source": [
    "# Exception handling"
   ]
  },
  {
   "cell_type": "code",
   "execution_count": null,
   "id": "1266f7a6",
   "metadata": {},
   "outputs": [],
   "source": [
    "#exception hnadling is Process of responding to unwanted or unexpected events when a computer program runs.\n",
    "#exception handling deals with these events to avoid the program or system crashing and whithout this process,exception would disrupt the normal operation of a program"
   ]
  },
  {
   "cell_type": "code",
   "execution_count": 33,
   "id": "fb48e4e3",
   "metadata": {},
   "outputs": [],
   "source": [
    "#Python is both compiled as well as an interpreted language, which means when we run a python code,\n",
    "#it is first compiled and then interpreted line by line. \n",
    "#The compile part gets deleted as soon as the code gets executed in Python so that the programmer doesn't get onto unnecessary complexity."
   ]
  },
  {
   "cell_type": "code",
   "execution_count": null,
   "id": "df55d142",
   "metadata": {},
   "outputs": [],
   "source": [
    "#  anish.py -> (python file)             source code -> complier(syntantical error) -> binary code -> interpreter\n",
    "                                              "
   ]
  },
  {
   "cell_type": "code",
   "execution_count": null,
   "id": "bfc9778b",
   "metadata": {},
   "outputs": [],
   "source": [
    "# what does interpreter do?\n",
    "#ou write your Python code in a text file with a name like anish.py .\n",
    "#How does that code Run? There is program installed on your computer named \"python3\" or \"python\", and its job is looking at and running your Python code.\n",
    "#This type of program is called an \"interpreter\"."
   ]
  },
  {
   "cell_type": "code",
   "execution_count": null,
   "id": "980bb209",
   "metadata": {},
   "outputs": [],
   "source": [
    "#Try ....except\n",
    "#try......except......finally\n",
    "#try........except.....else"
   ]
  },
  {
   "cell_type": "code",
   "execution_count": null,
   "id": "97694cab",
   "metadata": {},
   "outputs": [],
   "source": [
    "Two types of error\n",
    "1)Syntax error\n",
    "when you write an invalid python code,you will get a syntax error\n",
    "\n",
    "2) exceptional error\n",
    "Even though when your code has valid syntax,it may cause an error during execution \n",
    "\n",
    "eg:TypeError.NameError,ValueError\n",
    "    \n",
    "reading a file that does not exist.\n",
    "connecting to a remote server that is offline.\n",
    "Bad user inputs."
   ]
  },
  {
   "cell_type": "code",
   "execution_count": 38,
   "id": "68e0be7f",
   "metadata": {},
   "outputs": [
    {
     "name": "stdout",
     "output_type": "stream",
     "text": [
      " enter a number: jsfkj\n",
      "multiplication table of jsfkj is: \n",
      "Invalid input\n"
     ]
    }
   ],
   "source": [
    "#print the table\n",
    "a = input(\" enter a number: \")\n",
    "print(f\"multiplication table of {a} is: \")\n",
    "try:\n",
    "    for i in range(1,11):\n",
    "        print(f\"{int(a)} * {int(a)*i}\")\n",
    "except:\n",
    "    print(\"Invalid input\")\n",
    "\n",
    "    "
   ]
  },
  {
   "cell_type": "code",
   "execution_count": 43,
   "id": "96d836e8",
   "metadata": {},
   "outputs": [
    {
     "name": "stdout",
     "output_type": "stream",
     "text": [
      "enter the integer: 4,5\n",
      "number entered is not an integer: \n"
     ]
    }
   ],
   "source": [
    "try:\n",
    "    num = int(input(\"enter the integer: \"))\n",
    "    a = [6,3]\n",
    "    print(a[num])\n",
    "except ValueError:\n",
    "    print(\"number entered is not an integer: \")\n",
    "except IndexError:\n",
    "    print(\"Index Error \")"
   ]
  },
  {
   "cell_type": "code",
   "execution_count": 8,
   "id": "484f68cc",
   "metadata": {},
   "outputs": [
    {
     "name": "stdout",
     "output_type": "stream",
     "text": [
      "give difference value for b\n"
     ]
    }
   ],
   "source": [
    "a = 10\n",
    "b = 0\n",
    "try:\n",
    "    c = a/b\n",
    "    print(c)\n",
    "except:\n",
    "    print(\"give difference value for b\")"
   ]
  },
  {
   "cell_type": "code",
   "execution_count": null,
   "id": "3be47856",
   "metadata": {},
   "outputs": [],
   "source": [
    "try:\n",
    "    with open(filename,'r')...#first execute\n",
    "    .....\n",
    "except:\n",
    "    #file handling"
   ]
  },
  {
   "cell_type": "code",
   "execution_count": 34,
   "id": "9b6ac162",
   "metadata": {},
   "outputs": [
    {
     "name": "stdout",
     "output_type": "stream",
     "text": [
      "content written successfully\n"
     ]
    }
   ],
   "source": [
    "try:\n",
    "    f = open('countries.csv','w')\n",
    "    f.write('test write this')\n",
    "except IOError:\n",
    "    print(\"Error:could not find the file or read file\") # we can take the multiple except errors simultaneously one after another\n",
    "    #This will only check for an IOError exception and then execute this print statement\n",
    "except TypeError:\n",
    "    print(\"Error:\")\n",
    "else:   #this else block will execute if try block does not raise an exception #mtlb agr try block sahi hoga toh except block ki zarurat nhi hogi auur seedha else block k pass chla jayega\n",
    "    print(\"content written successfully\")\n",
    "    f.close()"
   ]
  },
  {
   "cell_type": "code",
   "execution_count": 36,
   "id": "8a5715f6",
   "metadata": {},
   "outputs": [
    {
     "name": "stdout",
     "output_type": "stream",
     "text": [
      "Error:Could not find file or read data\n"
     ]
    }
   ],
   "source": [
    "try:\n",
    "    f = open('testfile','r')\n",
    "    f.write('Test write this')\n",
    "except:\n",
    "    #this will check for any exception and then execute this print statement\n",
    "    print(\"Error:Could not find file or read data\")\n",
    "else:\n",
    "    print(\"content written successfully\")\n",
    "    f.close()"
   ]
  },
  {
   "cell_type": "markdown",
   "id": "6696291e",
   "metadata": {},
   "source": [
    "FINALLY\n",
    "\n",
    "\n",
    "the finally:block of code will always be run regardless if there was an exception in the try block.\n",
    "    \n",
    "the syntax is:\n",
    "      \n",
    "try:\n",
    "    code block here\n",
    "    ...\n",
    "    Due to any exception this could may be skipped!\n",
    "finally:\n",
    "    This code block would always be executed.\n",
    "\n",
    "#IMPORTANT: we don't neeed to f.close() function . in this more security.\n",
    "          : yeh code hmesha execute hoga chahe kuch bhi ho."
   ]
  },
  {
   "cell_type": "code",
   "execution_count": 71,
   "id": "489c293e",
   "metadata": {},
   "outputs": [
    {
     "name": "stdout",
     "output_type": "stream",
     "text": [
      "can't divide by zero\n",
      "this is always executed\n"
     ]
    }
   ],
   "source": [
    "#python program to demonstrate finally\n",
    "\n",
    "#no exceprion raised in try block\n",
    "try:\n",
    "    k = 5//0   #raises divide by zero exception \n",
    "    print(k)\n",
    "#handle zerodivision exception\n",
    "except ZeroDivisionError:\n",
    "    print(\"can't divide by zero\")\n",
    "finally:\n",
    "    # this block is always executed.\n",
    "    #regardless of exception generation.\n",
    "    print('this is always executed')"
   ]
  },
  {
   "cell_type": "code",
   "execution_count": 19,
   "id": "aa716af3",
   "metadata": {},
   "outputs": [
    {
     "name": "stdout",
     "output_type": "stream",
     "text": [
      "always execute finally code blocks\n"
     ]
    }
   ],
   "source": [
    "try :\n",
    "    f = open(\"testfile\",\"w\")\n",
    "    f.write(\"test write statement\")\n",
    "finally:\n",
    "    print('always execute finally code blocks')"
   ]
  },
  {
   "cell_type": "code",
   "execution_count": 44,
   "id": "2d69bc4f",
   "metadata": {},
   "outputs": [
    {
     "data": {
      "text/plain": [
       "['.ipynb_checkpoints',\n",
       " 'average_marks.txt',\n",
       " 'basics of python.ipynb',\n",
       " 'countries.csv',\n",
       " 'countries4.csv',\n",
       " 'intermediate python.ipynb',\n",
       " 'introduction to python (day1).ipynb',\n",
       " 'notes.txt',\n",
       " 'python interview questions.ipynb',\n",
       " 'readme1.txt',\n",
       " 'student_info.txt',\n",
       " 'testfile']"
      ]
     },
     "execution_count": 44,
     "metadata": {},
     "output_type": "execute_result"
    }
   ],
   "source": [
    "os.listdir()"
   ]
  },
  {
   "cell_type": "code",
   "execution_count": 20,
   "id": "72a8d240",
   "metadata": {},
   "outputs": [],
   "source": [
    "def askint():\n",
    "    try:\n",
    "        val = int(input(\"please enter an integer: \"))\n",
    "    except:\n",
    "        print(\"looks like you did not enter an integer\")\n",
    "    finally:\n",
    "        print(\"finally, I executed\")\n",
    "    print(val)\n",
    "        "
   ]
  },
  {
   "cell_type": "code",
   "execution_count": 22,
   "id": "4996d080",
   "metadata": {},
   "outputs": [
    {
     "name": "stdout",
     "output_type": "stream",
     "text": [
      "please enter an integer: 25\n",
      "finally, I executed\n",
      "25\n"
     ]
    }
   ],
   "source": [
    "askint()"
   ]
  },
  {
   "cell_type": "code",
   "execution_count": 46,
   "id": "b0d94458",
   "metadata": {},
   "outputs": [],
   "source": [
    "#program to handle multiple errors with one\n",
    "#except statement\n",
    "#python 3\n",
    "\n",
    "def fun(a):\n",
    "    if a<4:\n",
    "        \n",
    "        #throws ZeroDivisionError for a = 3\n",
    "        b = a/(a-3)\n",
    "        \n",
    "    #throws NameError if a >= 3\n",
    "    print(\"value of b =\",b)\n",
    "    "
   ]
  },
  {
   "cell_type": "code",
   "execution_count": 47,
   "id": "441917b0",
   "metadata": {},
   "outputs": [
    {
     "name": "stdout",
     "output_type": "stream",
     "text": [
      "value of b = -2.0\n",
      "1 NameError occured and handled\n"
     ]
    }
   ],
   "source": [
    "try:\n",
    "    fun(2)\n",
    "    fun(5)\n",
    "    \n",
    "    \n",
    "#note that braces() are neceesasry here for\n",
    "#multiple exceptions\n",
    "\n",
    "except(ZeroDivisionError,NameError):\n",
    "    print( f\"{0 or 1} NameError occured and handled\")"
   ]
  },
  {
   "cell_type": "markdown",
   "id": "aac3ee35",
   "metadata": {},
   "source": [
    "task: create a function which gives the multiplication table and handle the exception"
   ]
  },
  {
   "cell_type": "code",
   "execution_count": 69,
   "id": "55713863",
   "metadata": {},
   "outputs": [
    {
     "name": "stdout",
     "output_type": "stream",
     "text": [
      "enter a number: 4\n"
     ]
    }
   ],
   "source": [
    "n = input(\"enter a number: \")\n",
    "def mul(n):\n",
    "    try:\n",
    "        for i in range(1,11):\n",
    "            print(i*int(n))\n",
    "    except ValueError:\n",
    "        print(\"enter the number only\")\n"
   ]
  },
  {
   "cell_type": "code",
   "execution_count": 70,
   "id": "b9ab9809",
   "metadata": {},
   "outputs": [
    {
     "name": "stdout",
     "output_type": "stream",
     "text": [
      "4\n",
      "8\n",
      "12\n",
      "16\n",
      "20\n",
      "24\n",
      "28\n",
      "32\n",
      "36\n",
      "40\n"
     ]
    }
   ],
   "source": [
    "mul(n)"
   ]
  },
  {
   "cell_type": "code",
   "execution_count": 81,
   "id": "3718a9da",
   "metadata": {},
   "outputs": [
    {
     "name": "stdout",
     "output_type": "stream",
     "text": [
      "enter the net sales for\n",
      "- prior period:200\n",
      "- current period:200\n"
     ]
    }
   ],
   "source": [
    "#the following program calculates the sales growth\n",
    "#get input net sales\n",
    "\n",
    "print('enter the net sales for')\n",
    "try:\n",
    "    previous = float(input('- prior period:'))\n",
    "    current = float(input('- current period:'))\n",
    "    \n",
    "    #calculate the change in percentage\n",
    "    change = (current - previous) * 100 / previous\n",
    "    \n",
    "    #show the result\n",
    "    if change > 0:\n",
    "        result = f'sales increases {abs(change)}%'\n",
    "    else:\n",
    "        result = f'sales decreases {abs(change)}%'\n",
    "except:\n",
    "    print('enter the value only')\n",
    "\n",
    "\n",
    "    "
   ]
  },
  {
   "cell_type": "code",
   "execution_count": null,
   "id": "cba4ba31",
   "metadata": {},
   "outputs": [],
   "source": []
  }
 ],
 "metadata": {
  "kernelspec": {
   "display_name": "Python 3 (ipykernel)",
   "language": "python",
   "name": "python3"
  },
  "language_info": {
   "codemirror_mode": {
    "name": "ipython",
    "version": 3
   },
   "file_extension": ".py",
   "mimetype": "text/x-python",
   "name": "python",
   "nbconvert_exporter": "python",
   "pygments_lexer": "ipython3",
   "version": "3.11.3"
  }
 },
 "nbformat": 4,
 "nbformat_minor": 5
}
